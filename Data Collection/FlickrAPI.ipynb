{
 "cells": [
  {
   "cell_type": "code",
   "execution_count": 46,
   "metadata": {},
   "outputs": [],
   "source": [
    "import requests\n",
    "import datetime\n",
    "\n",
    "\n",
    "\n",
    "API_KEYS = ['3ecafd97694e35054e50cae6316861e1',\n",
    "            'a350cfd7c4402a5612cf05d472f04562',\n",
    "            '304fad5bfc51c79cf44da91a7a29ad83',\n",
    "            '8c0734664bbfabe9e44dfd62331c0f7e',\n",
    "            '2e0ffb69dd39dd9746a78c394d4d5cdb',\n",
    "            'cfcc76ee8836a348e1246aee73e7a787']\n",
    "\n",
    "API_SECRET = ['9c8f38a0dfaabcde',\n",
    "              'd9b30f2b30ce9837',\n",
    "              '72551a2ca8252487',\n",
    "              '1001d462c311eaf7',\n",
    "              '1baa49b0e3beaae2',\n",
    "              '590a261f1535947d']"
   ]
  },
  {
   "cell_type": "code",
   "execution_count": 104,
   "metadata": {},
   "outputs": [],
   "source": [
    "from time import strftime\n",
    "from datetime import datetime\n"
   ]
  },
  {
   "cell_type": "code",
   "execution_count": 48,
   "metadata": {},
   "outputs": [],
   "source": [
    "\n",
    "\n",
    "import json\n",
    "url = 'https://api.flickr.com/services/rest/?'\n",
    "# ID should be of 16 digits\n",
    "\n",
    "\n",
    "\n",
    "# Function to make request and obtain a response\n",
    "def search(query, result = [], id_list = []):\n",
    "    \n",
    "    date = datetime.datetime.now()\n",
    "    delta = datetime.timedelta(days=1)\n",
    "    min_date = date - delta\n",
    "    for key in API_KEYS:\n",
    "        # looping over 8 pages\n",
    "        for i in range(1,9):\n",
    "            \n",
    "            payload = {\n",
    "                        'api_key':key,\n",
    "                        'format':'json',\n",
    "                        'method': 'flickr.photos.search',\n",
    "                        'page':i,\n",
    "                        'per_page':500,\n",
    "                        'text':str(query),\n",
    "                        'min_upload_date': min_date\n",
    "                      }\n",
    "\n",
    "            #try:\n",
    "            resp = requests.post(url, data=payload, timeout=100)\n",
    "            resp = resp.text\n",
    "\n",
    "            # cleaning response \n",
    "            resp = resp[14:-1]\n",
    "\n",
    "            # response to json\n",
    "            resp = json.loads(resp)\n",
    "\n",
    "            resp = resp['photos']['photo']\n",
    "\n",
    "            #looping over all list of photo details to obtain attribute 'id'\n",
    "            for i in range(0,499):\n",
    "                id_list.append(resp[i]['id'])\n",
    "             \n",
    "\n",
    "        return id_list\n",
    "\n",
    "id_list = search('dogs')"
   ]
  },
  {
   "cell_type": "code",
   "execution_count": 97,
   "metadata": {},
   "outputs": [
    {
     "data": {
      "text/plain": [
       "'42578122844'"
      ]
     },
     "execution_count": 97,
     "metadata": {},
     "output_type": "execute_result"
    }
   ],
   "source": [
    "id_set = set(id_list)\n",
    "id_list = list(id_set)\n",
    "id_list[135]"
   ]
  },
  {
   "cell_type": "code",
   "execution_count": 102,
   "metadata": {
    "scrolled": true
   },
   "outputs": [
    {
     "name": "stdout",
     "output_type": "stream",
     "text": [
      "0/3801done\n",
      "10/3801done\n",
      "20/3801done\n",
      "30/3801done\n",
      "40/3801done\n",
      "50/3801done\n",
      "60/3801done\n",
      "70/3801done\n",
      "80/3801done\n",
      "90/3801done\n",
      "100/3801done\n",
      "110/3801done\n",
      "120/3801done\n",
      "130/3801done\n",
      "140/3801done\n",
      "150/3801done\n",
      "160/3801done\n",
      "170/3801done\n",
      "180/3801done\n",
      "190/3801done\n",
      "[{'id': '132783078-29425552618-72157695706282052', 'content': ['Nice shot, Bruwer! &quot;Bont hond sluip in die gras rond!&quot; :-)', 'prachtige en gezonde wilde hond', 'Awesome shot, Bruwer!!', 'I love their fur patterns!\\n\\nYour picture is beautiful, you are invited to post this to NATURE\\'S CAROUSEL (Invite Only)\\n\\n<a href=\"https://www.flickr.com/groups/1216504@N22/\"><img src=\"https://farm3.static.flickr.com/2613/3778751530_dc29e107cd_m.jpg\" /><a rel=\"nofollow\"></a></a>\\n\\n<a href=\"https://www.flickr.com/groups/1216504@N22/\"><b> NATURE\\'S CAROUSEL POST 1 AWARD 2</b></a>', '<b>You are invited to display your image.\\nI wish I\\'d taken it!!!</b>\\n<a href=\"https://www.flickr.com/groups/wishitookthat/\"><img src=\"https://farm4.static.flickr.com/3429/3705486062_c5a3969667_t.jpg\" width=\"100\" height=\"71\" /></a>\\n<a href=\"https://www.flickr.com/groups/wishitookthat/\">Damn! I Wish I\\'d Taken That!!! - Invitation</a>\\n<b>Invited Images Only\\nPost 1--Award 2</b>', 'Nicely done', 'Phenomenal..', 'Terrific shot Bru.\\n\\n<a href=\"https://www.flickr.com/groups/contests/\" title=\"GOLD WILDLIFE\"><img src=\"https://farm7.staticflickr.com/6092/6337942750_ddb6a288d7_b.jpg\" width=\" 250\" height=\" 140\" alt=\"\" /></a>', 'Real fine capture Bruwer', 'Superb shot, Bruwer, an incredible sighting and well captured. I love wild dogs, I was glad to see them in Botswana and Kenya.', 'WOW!!! What a QUALITY NATURE shot!\\nIf photographed in the wild, please share it in\\n<a href=\"https://www.flickr.com/groups/2117764@N24/\"> <b> Nature\\'s Spirit (post 1/award 1) </b></a> \\n<a href=\"https://www.flickr.com/groups/2117764@N24/\"> <img src=\"https://farm4.staticflickr.com/3770/9438349076_c0458ac377_t.jpg\" width=\"25\" height=\"25\" /> </a> \\n<i>Good Stewards of Nature</i>\\n(The sweeper removes the shots of those who do not award)', '<a href=\"https://flickr.com/groups/colorsoftheheart\"><img src=\"https://farm3.static.flickr.com/2485/4000300063_ac4fe76aa8_o.jpg\" /></a><b>\\nYou are invited to add your wonderful\\npicture to <a href=\"https://www.flickr.com/groups/colorsoftheheart/\">&quot; Colors Of The Heart &quot;</a>\\nInvited Images Only! Post 1- Award 3!\\nPlease tag your photo: COTH</b>', '<a href=\"https://www.flickr.com/groups/1864541@N25/\"> <b>The Sunshine Group Invitation</b></a>\\n(Post 1/ Award 2)\\n<a href=\"https://www.flickr.com/groups/sunshine_group/\"><img src=\"https://c7.staticflickr.com/9/8043/29234222454_148724402b_t.jpg\" width=\"50\" height=\"50\" alt=\"invite\" /></a>\\nInvited Images Only', \"Good morning Bruwer and don't think you would want this type of extreme heat and humidity your way.  It's hard to even breath in and the series of bad storms for a five hour period did nothing to relieve this weather.\\nExcellent capture Bruwer !\\nPlease send some cooler weather this way and I will try to send this horrid heat but do think about it first.\\nSuperb photo and have a great day and week !\", 'Wonderful shot...', 'Very well done, all the elements that make an extraordinary photograph are present!', 'You are invited to \\nadd your photo and join\\n<a href=\"https://www.flickr.com/groups/a_little_beauty/\"><img src=\"https://farm6.static.flickr.com/8446/7833601898_1dc5742687.jpg\" width=\"140\" height=\"65\" alt=\"alt=\" />\\nPlease added <b>A_Little_Beauty</b></a>\\nPost 1 comment 2\\n\\nAfter you add it to the group pool, \\nplease tag this photo as a \\n<strong>&quot;ALittleBeauty&quot;</strong>', '<b>You are invited to post this superb shot :<b>\\n<a href=\"https://www.flickr.com/groups/1425919@N23/\" title=\"LJoN invite by Guy@Fawkes, on Flickr\"><img src=\"https://farm6.static.flickr.com/5201/5323932457_bc633dffda_m.jpg\" width=\"240\" height=\"239\" alt=\"LJoN invite\" /></a><b>The &quot;Eight&quot; award thread is <a href=\"https://www.flickr.com/groups/1425919@N23/discuss/72157625835906110\">..…HERE</a><b></b></b></b></b>', 'Beautiful capture, love the wonderful fur pattern. Have a great week!', 'Terrific', 'Super capture, Bruwer!\\n\\n<a href=\"https://www.flickr.com/groups/660297@N21/\"><img src=\"https://c1.staticflickr.com/9/8483/8186442032_76d04d00f1_q.jpg\" width=\"200\" height=\"200\" />\\n<i><u> Nature Through The Lens / Invited Photos Only </u></i></a>\\n\\nHi, I\\'m an Admin for a group called <a href=\"https://www.flickr.com/groups/660297@N21/\"> &quot;Nature Through The Lens / Invited Photos Only&quot;</a>, and we\\'d love to have your photo added to the group.\\nPlease tag your photo with &quot;Nature Through The Lens&quot;\\n<b>Don\\'t forget to play the Nature A-B-C Game</b>\\n\\n<i><u><a href=\"http://www.flickr.com/photos/friends/\"> Seen In My Contacts</a></u></i>', 'Mooi!', 'handsome dog; I hope to see them someday. Always a terrific photo, Bruwer', 'Always special to see and capture a wild dog. Great work, Bruwer!', 'Simply beautiful, Bruwer.\\nHave a great evening.', 'Great shot Bruwer.', 'Altijd fantastisch om te zien Bruwer', 'Mooi skoot!', 'beautiful, greeting a friend and thank you for visiting :-) <a href=\"http://www.flickr.com/photos/mdunisk/43199152172\">www.flickr.com/photos/mdunisk/43199152172</a>', 'Superb Capture Bruwer!', '<a href=\"https://www.flickr.com/photos/133992461@N04/22682228476/in/album-72157657417720320/\" title=\"2aaaa\"><img src=\"https://farm6.staticflickr.com/5814/22682228476_27ee71c96c_m.jpg\" width=\"240\" height=\"182\" alt=\"2aaaa\" /></a>\\nThank you for sharing this great image in just photos no rules group please feel free to post more\\n<a href=\"https://www.flickr.com/groups/justdave/\">www.flickr.com/groups/justdave/</a>', 'Congratulations, I saw this wonderful photo in \\n<a href=\"https://www.flickr.com/groups/1046032@N20/\"> <img src=\"https://farm4.static.flickr.com/3407/buddyicons/1046032@N20.jpg?1 239274945\" /> &quot;as beautiful as you want&quot; </a> group', 'Excelente!', '<a href=\"https://www.flickr.com/groups/rawstreetphotography\">\\n<img src=\"https://farm1.static.flickr.com/44/buddyicons/355036@N23.jpg?1174946473\" width=\"48\" height=\"48\" /> \\nRated RAW by the RAW Street Photography group</a>\\n<b>(comment &amp; give RAW logo to 5 - 10 images for every 1 post)</b>', 'Well done, good composition.', 'Nice shot, although I would have liked to have seen it in Black and White.', '[https://www.flickr.com/photos/132198318@N03/]  go back to see my black&amp;white Version I create on your wish 😀', 'I like the Black and White better. Can concentrate more on the subjects and less on the colors.', '<a href=\"https://www.flickr.com/groups/rawstreetphotography/\">\\n<img src=\"https://farm1.static.flickr.com/44/buddyicons/355036@N23.jpg?1174946473\" width=\"48\" height=\"48\" /> \\nviewed in the RAW Street Photography group</a>']}, {'id': '144331805-41484505400-72157695698341812', 'content': ['Nice shot, Bruwer! &quot;Bont hond sluip in die gras rond!&quot; :-)', 'prachtige en gezonde wilde hond', 'Awesome shot, Bruwer!!', 'I love their fur patterns!\\n\\nYour picture is beautiful, you are invited to post this to NATURE\\'S CAROUSEL (Invite Only)\\n\\n<a href=\"https://www.flickr.com/groups/1216504@N22/\"><img src=\"https://farm3.static.flickr.com/2613/3778751530_dc29e107cd_m.jpg\" /><a rel=\"nofollow\"></a></a>\\n\\n<a href=\"https://www.flickr.com/groups/1216504@N22/\"><b> NATURE\\'S CAROUSEL POST 1 AWARD 2</b></a>', '<b>You are invited to display your image.\\nI wish I\\'d taken it!!!</b>\\n<a href=\"https://www.flickr.com/groups/wishitookthat/\"><img src=\"https://farm4.static.flickr.com/3429/3705486062_c5a3969667_t.jpg\" width=\"100\" height=\"71\" /></a>\\n<a href=\"https://www.flickr.com/groups/wishitookthat/\">Damn! I Wish I\\'d Taken That!!! - Invitation</a>\\n<b>Invited Images Only\\nPost 1--Award 2</b>', 'Nicely done', 'Phenomenal..', 'Terrific shot Bru.\\n\\n<a href=\"https://www.flickr.com/groups/contests/\" title=\"GOLD WILDLIFE\"><img src=\"https://farm7.staticflickr.com/6092/6337942750_ddb6a288d7_b.jpg\" width=\" 250\" height=\" 140\" alt=\"\" /></a>', 'Real fine capture Bruwer', 'Superb shot, Bruwer, an incredible sighting and well captured. I love wild dogs, I was glad to see them in Botswana and Kenya.', 'WOW!!! What a QUALITY NATURE shot!\\nIf photographed in the wild, please share it in\\n<a href=\"https://www.flickr.com/groups/2117764@N24/\"> <b> Nature\\'s Spirit (post 1/award 1) </b></a> \\n<a href=\"https://www.flickr.com/groups/2117764@N24/\"> <img src=\"https://farm4.staticflickr.com/3770/9438349076_c0458ac377_t.jpg\" width=\"25\" height=\"25\" /> </a> \\n<i>Good Stewards of Nature</i>\\n(The sweeper removes the shots of those who do not award)', '<a href=\"https://flickr.com/groups/colorsoftheheart\"><img src=\"https://farm3.static.flickr.com/2485/4000300063_ac4fe76aa8_o.jpg\" /></a><b>\\nYou are invited to add your wonderful\\npicture to <a href=\"https://www.flickr.com/groups/colorsoftheheart/\">&quot; Colors Of The Heart &quot;</a>\\nInvited Images Only! Post 1- Award 3!\\nPlease tag your photo: COTH</b>', '<a href=\"https://www.flickr.com/groups/1864541@N25/\"> <b>The Sunshine Group Invitation</b></a>\\n(Post 1/ Award 2)\\n<a href=\"https://www.flickr.com/groups/sunshine_group/\"><img src=\"https://c7.staticflickr.com/9/8043/29234222454_148724402b_t.jpg\" width=\"50\" height=\"50\" alt=\"invite\" /></a>\\nInvited Images Only', \"Good morning Bruwer and don't think you would want this type of extreme heat and humidity your way.  It's hard to even breath in and the series of bad storms for a five hour period did nothing to relieve this weather.\\nExcellent capture Bruwer !\\nPlease send some cooler weather this way and I will try to send this horrid heat but do think about it first.\\nSuperb photo and have a great day and week !\", 'Wonderful shot...', 'Very well done, all the elements that make an extraordinary photograph are present!', 'You are invited to \\nadd your photo and join\\n<a href=\"https://www.flickr.com/groups/a_little_beauty/\"><img src=\"https://farm6.static.flickr.com/8446/7833601898_1dc5742687.jpg\" width=\"140\" height=\"65\" alt=\"alt=\" />\\nPlease added <b>A_Little_Beauty</b></a>\\nPost 1 comment 2\\n\\nAfter you add it to the group pool, \\nplease tag this photo as a \\n<strong>&quot;ALittleBeauty&quot;</strong>', '<b>You are invited to post this superb shot :<b>\\n<a href=\"https://www.flickr.com/groups/1425919@N23/\" title=\"LJoN invite by Guy@Fawkes, on Flickr\"><img src=\"https://farm6.static.flickr.com/5201/5323932457_bc633dffda_m.jpg\" width=\"240\" height=\"239\" alt=\"LJoN invite\" /></a><b>The &quot;Eight&quot; award thread is <a href=\"https://www.flickr.com/groups/1425919@N23/discuss/72157625835906110\">..…HERE</a><b></b></b></b></b>', 'Beautiful capture, love the wonderful fur pattern. Have a great week!', 'Terrific', 'Super capture, Bruwer!\\n\\n<a href=\"https://www.flickr.com/groups/660297@N21/\"><img src=\"https://c1.staticflickr.com/9/8483/8186442032_76d04d00f1_q.jpg\" width=\"200\" height=\"200\" />\\n<i><u> Nature Through The Lens / Invited Photos Only </u></i></a>\\n\\nHi, I\\'m an Admin for a group called <a href=\"https://www.flickr.com/groups/660297@N21/\"> &quot;Nature Through The Lens / Invited Photos Only&quot;</a>, and we\\'d love to have your photo added to the group.\\nPlease tag your photo with &quot;Nature Through The Lens&quot;\\n<b>Don\\'t forget to play the Nature A-B-C Game</b>\\n\\n<i><u><a href=\"http://www.flickr.com/photos/friends/\"> Seen In My Contacts</a></u></i>', 'Mooi!', 'handsome dog; I hope to see them someday. Always a terrific photo, Bruwer', 'Always special to see and capture a wild dog. Great work, Bruwer!', 'Simply beautiful, Bruwer.\\nHave a great evening.', 'Great shot Bruwer.', 'Altijd fantastisch om te zien Bruwer', 'Mooi skoot!', 'beautiful, greeting a friend and thank you for visiting :-) <a href=\"http://www.flickr.com/photos/mdunisk/43199152172\">www.flickr.com/photos/mdunisk/43199152172</a>', 'Superb Capture Bruwer!', '<a href=\"https://www.flickr.com/photos/133992461@N04/22682228476/in/album-72157657417720320/\" title=\"2aaaa\"><img src=\"https://farm6.staticflickr.com/5814/22682228476_27ee71c96c_m.jpg\" width=\"240\" height=\"182\" alt=\"2aaaa\" /></a>\\nThank you for sharing this great image in just photos no rules group please feel free to post more\\n<a href=\"https://www.flickr.com/groups/justdave/\">www.flickr.com/groups/justdave/</a>', 'Congratulations, I saw this wonderful photo in \\n<a href=\"https://www.flickr.com/groups/1046032@N20/\"> <img src=\"https://farm4.static.flickr.com/3407/buddyicons/1046032@N20.jpg?1 239274945\" /> &quot;as beautiful as you want&quot; </a> group', 'Excelente!', '<a href=\"https://www.flickr.com/groups/rawstreetphotography\">\\n<img src=\"https://farm1.static.flickr.com/44/buddyicons/355036@N23.jpg?1174946473\" width=\"48\" height=\"48\" /> \\nRated RAW by the RAW Street Photography group</a>\\n<b>(comment &amp; give RAW logo to 5 - 10 images for every 1 post)</b>', 'Well done, good composition.', 'Nice shot, although I would have liked to have seen it in Black and White.', '[https://www.flickr.com/photos/132198318@N03/]  go back to see my black&amp;white Version I create on your wish 😀', 'I like the Black and White better. Can concentrate more on the subjects and less on the colors.', '<a href=\"https://www.flickr.com/groups/rawstreetphotography/\">\\n<img src=\"https://farm1.static.flickr.com/44/buddyicons/355036@N23.jpg?1174946473\" width=\"48\" height=\"48\" /> \\nviewed in the RAW Street Photography group</a>']}]\n"
     ]
    }
   ],
   "source": [
    "comm = []\n",
    "count = 0\n",
    "success = 0\n",
    "result = []\n",
    "comm_id = []\n",
    "\n",
    "\n",
    "failed = 0\n",
    "for count,idx in enumerate(id_list[:200]):\n",
    "    payload = {\n",
    "                    'api_key': '304fad5bfc51c79cf44da91a7a29ad83',\n",
    "                    'format': 'json',\n",
    "                    'method': 'flickr.photos.comments.getList',\n",
    "                    'photo_id': idx\n",
    "                   }\n",
    "    resp = requests.post(url, data=payload, timeout=100)\n",
    "    resp = resp.text\n",
    "\n",
    "    # cleaning response \n",
    "    resp = resp[14:-1]\n",
    "\n",
    "    try:\n",
    "        resp = json.loads(resp)\n",
    "    except:\n",
    "        print('jsonDecodeError')\n",
    "        continue\n",
    "    try:\n",
    "        # Retrieving all required details from comment response\n",
    "        for x in range(len(resp['comments']['comment'])):\n",
    "            response = resp['comments']['comment'][x]['_content']\n",
    "            comm.append(response)\n",
    "            comm_id = resp['comments']['comment'][x]['id']  \n",
    "            author = resp['comments']['comment'][x]['authorname']\n",
    "            userid = resp['comments']['comment'][x]['author']\n",
    "            date = resp['comments']['comment'][x]['datecreate']\n",
    "            date = datetime.fromtimestamp(int(date)).strftime('%Y-%m-%d %H:%M:%S')\n",
    "        d = {'id':comm_id, 'content':comm, 'username':author, 'user_id':userid, }\n",
    "        result.append(d)\n",
    "    except:\n",
    "        failed += 1\n",
    "\n",
    "    # displaying progress while looping\n",
    "    if(count % 10 == 0):\n",
    "        print(str(count)+'/'+str(len(id_list)) + 'done') \n",
    "print(result)\n",
    "\n"
   ]
  },
  {
   "cell_type": "code",
   "execution_count": 103,
   "metadata": {},
   "outputs": [
    {
     "data": {
      "text/plain": [
       "2"
      ]
     },
     "execution_count": 103,
     "metadata": {},
     "output_type": "execute_result"
    }
   ],
   "source": [
    "\n"
   ]
  },
  {
   "cell_type": "code",
   "execution_count": null,
   "metadata": {},
   "outputs": [],
   "source": [
    "jsonx = {\"_id\": id,                                 # comment_id               X\n",
    "         'keyword': keyword,                        #                          \n",
    "         \"username\": username,                      # authorname(comment)      X\n",
    "         \"user_id\": user_id,                        # owner(comment)           XX\n",
    "         \"content\": content,                        # comment                  X\n",
    "         \"timestamp\": timestamp,                    # datecreated\n",
    "         \"location\": location,                      # lat/long(photo)\n",
    "         \"hashtags\":hashtags,                       # -1                       X\n",
    "         \"Retweet\": RT,                             # -1                       X\n",
    "         \"Fav\": fav,                                # Favorites(total)\n",
    "         'source': source,                          # flickr                   \n",
    "         'date_added': date_added,                  # today's date\n",
    "         'in_reply_to': in_reply_to                 # Views\n",
    "        }\n"
   ]
  },
  {
   "cell_type": "code",
   "execution_count": 35,
   "metadata": {},
   "outputs": [
    {
     "data": {
      "text/plain": [
       "['I love how soft and sweet this little dog looks. I don’t like how the chair she is sitting on gives off some shine. Next time I would try to find a better background.',\n",
       " 'I love this fast retrieve from my black lab. This is a really neat picture with how you can capture it in a fast motion. I don’t like how the background is kind of busy with the trees and the fence. Next time I would try to cut some of that out.']"
      ]
     },
     "execution_count": 35,
     "metadata": {},
     "output_type": "execute_result"
    }
   ],
   "source": [
    "comm"
   ]
  },
  {
   "cell_type": "code",
   "execution_count": 70,
   "metadata": {},
   "outputs": [
    {
     "data": {
      "text/plain": [
       "[{'a': 12, 'b': 23}, {'a': 12, 'b': 23}]"
      ]
     },
     "execution_count": 70,
     "metadata": {},
     "output_type": "execute_result"
    }
   ],
   "source": [
    "d = {'a' : 12, 'b': 23}\n",
    "e = {'a' : 12, 'b': 23}\n",
    "result = []\n",
    "result.append(d)\n",
    "result.append(e)\n",
    "result"
   ]
  },
  {
   "cell_type": "code",
   "execution_count": null,
   "metadata": {},
   "outputs": [],
   "source": []
  }
 ],
 "metadata": {
  "kernelspec": {
   "display_name": "Python 3",
   "language": "python",
   "name": "python3"
  },
  "language_info": {
   "codemirror_mode": {
    "name": "ipython",
    "version": 3
   },
   "file_extension": ".py",
   "mimetype": "text/x-python",
   "name": "python",
   "nbconvert_exporter": "python",
   "pygments_lexer": "ipython3",
   "version": "3.6.3"
  }
 },
 "nbformat": 4,
 "nbformat_minor": 2
}
