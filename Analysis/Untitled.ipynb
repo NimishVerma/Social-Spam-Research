{
 "cells": [
  {
   "cell_type": "markdown",
   "metadata": {},
   "source": [
    "# Analysis List\n",
    "\n",
    "1. No. of posts per category    with percentage\n",
    "2. Major Country for each category\n",
    "3. Top 10 spammers, their categories, number of posts\n",
    "4. Check how many users suspended\n",
    "5. Total number of users that generated this much spam.\n",
    "6. Top hashtags in the dataset\n",
    "7. Country generating most spam\n",
    "8. Same phone number generating multiple campaigns.\n",
    "9. Maximum number of people related to same campaign - same phone number - different ID\n",
    "10. Cross Platform posts.\n"
   ]
  },
  {
   "cell_type": "code",
   "execution_count": null,
   "metadata": {},
   "outputs": [],
   "source": []
  }
 ],
 "metadata": {
  "kernelspec": {
   "display_name": "Python 3",
   "language": "python",
   "name": "python3"
  },
  "language_info": {
   "codemirror_mode": {
    "name": "ipython",
    "version": 3
   },
   "file_extension": ".py",
   "mimetype": "text/x-python",
   "name": "python",
   "nbconvert_exporter": "python",
   "pygments_lexer": "ipython3",
   "version": "3.6.4"
  }
 },
 "nbformat": 4,
 "nbformat_minor": 2
}
