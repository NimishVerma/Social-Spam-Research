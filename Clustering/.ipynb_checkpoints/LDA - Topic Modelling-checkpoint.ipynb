{
 "cells": [
  {
   "cell_type": "code",
   "execution_count": 1,
   "metadata": {},
   "outputs": [],
   "source": [
    "import gensim\n",
    "from gensim.utils import simple_preprocess\n",
    "from gensim.parsing.preprocessing import STOPWORDS\n",
    "from nltk.stem import WordNetLemmatizer, SnowballStemmer\n",
    "from nltk.stem.porter import *\n",
    "import numpy as np\n",
    "np.random.seed(2018)"
   ]
  },
  {
   "cell_type": "code",
   "execution_count": 2,
   "metadata": {},
   "outputs": [],
   "source": [
    "def lemmatize_stemming(text):\n",
    "    return stemmer.stem(WordNetLemmatizer().lemmatize(text, pos='v'))\n",
    "def preprocess(text):\n",
    "    result = []\n",
    "    for token in gensim.utils.simple_preprocess(text):\n",
    "        if token not in gensim.parsing.preprocessing.STOPWORDS and len(token) > 3:\n",
    "            result.append(lemmatize_stemming(token))\n",
    "    return result\n"
   ]
  },
  {
   "cell_type": "code",
   "execution_count": 3,
   "metadata": {},
   "outputs": [
    {
     "name": "stdout",
     "output_type": "stream",
     "text": [
      "['new_posts']\n"
     ]
    }
   ],
   "source": [
    "import pymongo\n",
    "\n",
    "client = pymongo.MongoClient()\n",
    "db = getattr(client, 'filtered_posts')\n",
    "coll = db.posts\n",
    "print(db.list_collection_names())"
   ]
  },
  {
   "cell_type": "code",
   "execution_count": 4,
   "metadata": {},
   "outputs": [],
   "source": [
    "posts = db.new_posts\n",
    "curs= posts.find()"
   ]
  },
  {
   "cell_type": "code",
   "execution_count": 5,
   "metadata": {},
   "outputs": [],
   "source": [
    "stemmer = SnowballStemmer('english')"
   ]
  },
  {
   "cell_type": "code",
   "execution_count": 6,
   "metadata": {},
   "outputs": [],
   "source": [
    "lis = []\n",
    "for i, doc in enumerate(curs):\n",
    "#     print(doc['content'])\n",
    "    lis.append(doc['content'])\n",
    "    #######  SAFETY FOR DEVELOPMENT #######\n",
    "#     if i > 4:\n",
    "#         break;\n",
    "    #######################################\n",
    "    \n",
    "    "
   ]
  },
  {
   "cell_type": "code",
   "execution_count": 9,
   "metadata": {},
   "outputs": [
    {
     "data": {
      "text/plain": [
       "['백퍼센트 Teaser Photo II 20180726',\n",
       " 'New Message Pluck\\xa0Sound[ad_1]https://s3.envato.com/files/13409089/preview.mp3\\nShort melodic sound with nice delayed pluck-bell. Perfect for all sorts of notifications: e-mail, SMS , ringtone, alarm clock alert, some event, etc.\\n    Need personal sounds or music for your game, video, web or other purpose? Please contact me: sungamesounds@gmail.com\\nPlease check other great interface sounds in my collection:\\n[ad_2]SourceView On WordPress',\n",
       " '$3 Fries Vs. $100 Fries Líder Toni\\xa043996647900Olhá esse video que encontrei no youtube:\\nsourceView On WordPress']"
      ]
     },
     "execution_count": 9,
     "metadata": {},
     "output_type": "execute_result"
    }
   ],
   "source": [
    "lis[:3]"
   ]
  },
  {
   "cell_type": "code",
   "execution_count": 8,
   "metadata": {},
   "outputs": [],
   "source": [
    "processed_docs = map(preprocess, lis)\n",
    "processed_docs=list(processed_docs)"
   ]
  },
  {
   "cell_type": "code",
   "execution_count": 10,
   "metadata": {},
   "outputs": [
    {
     "name": "stdout",
     "output_type": "stream",
     "text": [
      "0 photo\n",
      "1 teaser\n",
      "2 백퍼센트\n",
      "3 alarm\n",
      "4 alert\n",
      "5 bell\n",
      "6 check\n",
      "7 clock\n",
      "8 collect\n",
      "9 contact\n",
      "10 delay\n"
     ]
    }
   ],
   "source": [
    "dictionary = gensim.corpora.Dictionary(processed_docs)\n",
    "count = 0\n",
    "for k, v in dictionary.iteritems():\n",
    "    print(k, v)\n",
    "    count += 1\n",
    "    if count > 10:\n",
    "        break"
   ]
  },
  {
   "cell_type": "code",
   "execution_count": 11,
   "metadata": {},
   "outputs": [],
   "source": [
    "dictionary.filter_extremes(no_below=15, no_above=0.5, keep_n=100000)\n"
   ]
  },
  {
   "cell_type": "code",
   "execution_count": 12,
   "metadata": {},
   "outputs": [],
   "source": [
    "bow_corpus = [dictionary.doc2bow(doc) for doc in processed_docs]"
   ]
  },
  {
   "cell_type": "code",
   "execution_count": 13,
   "metadata": {},
   "outputs": [
    {
     "name": "stdout",
     "output_type": "stream",
     "text": [
      "Word 149 (\"week\") appears 1 time.\n",
      "Word 195 (\"beauti\") appears 2 time.\n",
      "Word 286 (\"deliv\") appears 1 time.\n",
      "Word 389 (\"guarante\") appears 1 time.\n",
      "Word 1011 (\"kind\") appears 1 time.\n",
      "Word 1590 (\"deliveri\") appears 1 time.\n",
      "Word 2551 (\"everyday\") appears 1 time.\n",
      "Word 2598 (\"vanilla\") appears 1 time.\n",
      "Word 2847 (\"satisfact\") appears 1 time.\n",
      "Word 3804 (\"lago\") appears 1 time.\n",
      "Word 4120 (\"cake\") appears 1 time.\n",
      "Word 8398 (\"thecakeplug\") appears 1 time.\n",
      "Word 8400 (\"smcakesfactori\") appears 1 time.\n",
      "Word 8401 (\"vpruqe\") appears 1 time.\n"
     ]
    }
   ],
   "source": [
    "bow_doc_4310 = bow_corpus[4310]\n",
    "for i in range(len(bow_doc_4310)):\n",
    "    print(\"Word {} (\\\"{}\\\") appears {} time.\".format(bow_doc_4310[i][0], \n",
    "                                               dictionary[bow_doc_4310[i][0]], \n",
    "bow_doc_4310[i][1]))"
   ]
  },
  {
   "cell_type": "code",
   "execution_count": 14,
   "metadata": {},
   "outputs": [
    {
     "name": "stdout",
     "output_type": "stream",
     "text": [
      "[(0, 0.5620061629774619), (1, 0.8271330441805299)]\n"
     ]
    }
   ],
   "source": [
    "from gensim import corpora, models\n",
    "from pprint import pprint\n",
    "\n",
    "\n",
    "tfidf = models.TfidfModel(bow_corpus)\n",
    "corpus_tfidf = tfidf[bow_corpus]\n",
    "\n",
    "for doc in corpus_tfidf:\n",
    "    pprint(doc)\n",
    "    break"
   ]
  },
  {
   "cell_type": "code",
   "execution_count": 15,
   "metadata": {},
   "outputs": [
    {
     "data": {
      "text/plain": [
       "'Beautiful something!\\nVanilla cake ....8500\\nDelivery fee 1k\\nWe deliver within Lagos everyday of the week!\\n#TheCakePlug @SMCakesFactory\\n08132453673\\nWith us your Satisfaction is guaranteed!\\nKindly RT this beauty to your TL https://t.co/VPruqE9wZc'"
      ]
     },
     "execution_count": 15,
     "metadata": {},
     "output_type": "execute_result"
    }
   ],
   "source": [
    "lis[4310]"
   ]
  },
  {
   "cell_type": "code",
   "execution_count": 17,
   "metadata": {},
   "outputs": [],
   "source": [
    "lda_model = gensim.models.LdaMulticore(bow_corpus, num_topics=50, id2word=dictionary, passes=2, chunksize=1000, workers=2)"
   ]
  },
  {
   "cell_type": "code",
   "execution_count": 18,
   "metadata": {
    "scrolled": false
   },
   "outputs": [
    {
     "name": "stdout",
     "output_type": "stream",
     "text": [
      "Topic: 0 \n",
      "Words: 0.080*\"account\" + 0.058*\"happi\" + 0.034*\"refund\" + 0.023*\"perform\" + 0.022*\"believ\" + 0.021*\"crore\" + 0.021*\"hold\" + 0.020*\"day\" + 0.019*\"own\" + 0.017*\"cultur\"\n",
      "Topic: 1 \n",
      "Words: 0.054*\"finish\" + 0.049*\"take\" + 0.040*\"niteflirt\" + 0.038*\"flirt\" + 0.032*\"mean\" + 0.031*\"busi\" + 0.028*\"avail\" + 0.026*\"ifsc\" + 0.020*\"favorit\" + 0.017*\"call\"\n",
      "Topic: 2 \n",
      "Words: 0.101*\"help\" + 0.066*\"contact\" + 0.060*\"thank\" + 0.042*\"need\" + 0.031*\"request\" + 0.030*\"kind\" + 0.022*\"share\" + 0.021*\"team\" + 0.018*\"support\" + 0.017*\"inform\"\n",
      "Topic: 3 \n",
      "Words: 0.082*\"vote\" + 0.031*\"happen\" + 0.027*\"billion\" + 0.024*\"poll\" + 0.020*\"dollar\" + 0.020*\"year\" + 0.019*\"mcdonald\" + 0.018*\"parti\" + 0.015*\"voter\" + 0.014*\"examin\"\n",
      "Topic: 4 \n",
      "Words: 0.085*\"save\" + 0.078*\"hotlin\" + 0.032*\"increas\" + 0.030*\"suicid\" + 0.027*\"crisi\" + 0.024*\"univers\" + 0.022*\"reduc\" + 0.022*\"forward\" + 0.021*\"depress\" + 0.021*\"push\"\n",
      "Topic: 5 \n",
      "Words: 0.052*\"join\" + 0.042*\"onlin\" + 0.041*\"school\" + 0.035*\"appli\" + 0.031*\"august\" + 0.031*\"train\" + 0.028*\"visit\" + 0.027*\"year\" + 0.026*\"free\" + 0.025*\"start\"\n",
      "Topic: 6 \n",
      "Words: 0.020*\"chocol\" + 0.011*\"recal\" + 0.009*\"christian\" + 0.009*\"jack\" + 0.008*\"footwear\" + 0.007*\"hookup\" + 0.006*\"cathi\" + 0.005*\"dlsmith\" + 0.005*\"constantin\" + 0.005*\"israel\"\n",
      "Topic: 7 \n",
      "Words: 0.131*\"miss\" + 0.040*\"know\" + 0.034*\"violenc\" + 0.033*\"go\" + 0.029*\"shoot\" + 0.021*\"whereabout\" + 0.018*\"babi\" + 0.015*\"see\" + 0.015*\"star\" + 0.010*\"brett\"\n",
      "Topic: 8 \n",
      "Words: 0.079*\"book\" + 0.049*\"offer\" + 0.026*\"visit\" + 0.023*\"car\" + 0.018*\"contact\" + 0.018*\"special\" + 0.018*\"limit\" + 0.017*\"travel\" + 0.017*\"semest\" + 0.017*\"avail\"\n",
      "Topic: 9 \n",
      "Words: 0.063*\"august\" + 0.059*\"free\" + 0.035*\"discount\" + 0.035*\"toll\" + 0.030*\"monday\" + 0.025*\"book\" + 0.025*\"event\" + 0.024*\"game\" + 0.022*\"saturday\" + 0.019*\"week\"\n",
      "Topic: 10 \n",
      "Words: 0.091*\"morn\" + 0.054*\"review\" + 0.051*\"daili\" + 0.031*\"donor\" + 0.031*\"good\" + 0.025*\"paper\" + 0.022*\"south\" + 0.020*\"live\" + 0.016*\"veteran\" + 0.015*\"africa\"\n",
      "Topic: 11 \n",
      "Words: 0.044*\"pinki\" + 0.040*\"septemb\" + 0.033*\"facebook\" + 0.029*\"instagram\" + 0.028*\"today\" + 0.026*\"doubl\" + 0.024*\"nigeria\" + 0.024*\"page\" + 0.022*\"food\" + 0.022*\"electr\"\n",
      "Topic: 12 \n",
      "Words: 0.108*\"order\" + 0.063*\"whatsapp\" + 0.041*\"place\" + 0.035*\"deliveri\" + 0.035*\"sale\" + 0.032*\"price\" + 0.030*\"avail\" + 0.020*\"contact\" + 0.019*\"kind\" + 0.018*\"size\"\n",
      "Topic: 13 \n",
      "Words: 0.075*\"lago\" + 0.070*\"guarante\" + 0.063*\"satisfact\" + 0.061*\"naira\" + 0.057*\"cake\" + 0.046*\"deliveri\" + 0.037*\"vanilla\" + 0.035*\"thecakeplug\" + 0.030*\"deliv\" + 0.029*\"twice\"\n",
      "Topic: 14 \n",
      "Words: 0.080*\"price\" + 0.078*\"peopl\" + 0.071*\"pay\" + 0.069*\"antifa\" + 0.068*\"card\" + 0.064*\"problem\" + 0.047*\"line\" + 0.046*\"suprem\" + 0.038*\"incom\" + 0.031*\"uofshwrn\"\n",
      "Topic: 15 \n",
      "Words: 0.038*\"make\" + 0.036*\"welcom\" + 0.036*\"claim\" + 0.035*\"face\" + 0.030*\"coffe\" + 0.026*\"charg\" + 0.021*\"mark\" + 0.015*\"mueller\" + 0.014*\"healthcar\" + 0.013*\"independ\"\n",
      "Topic: 16 \n",
      "Words: 0.028*\"free\" + 0.025*\"today\" + 0.024*\"experi\" + 0.022*\"contact\" + 0.020*\"look\" + 0.019*\"appoint\" + 0.016*\"home\" + 0.015*\"readi\" + 0.014*\"schedul\" + 0.014*\"updat\"\n",
      "Topic: 17 \n",
      "Words: 0.112*\"month\" + 0.042*\"handl\" + 0.034*\"upset\" + 0.033*\"small\" + 0.033*\"project\" + 0.027*\"govern\" + 0.027*\"grow\" + 0.026*\"instal\" + 0.022*\"expir\" + 0.020*\"immedi\"\n",
      "Topic: 18 \n",
      "Words: 0.105*\"free\" + 0.099*\"consult\" + 0.047*\"medic\" + 0.044*\"nairobi\" + 0.042*\"test\" + 0.037*\"locat\" + 0.032*\"clinic\" + 0.032*\"confidenti\" + 0.031*\"walk\" + 0.031*\"lunch\"\n",
      "Topic: 19 \n",
      "Words: 0.063*\"black\" + 0.039*\"white\" + 0.032*\"nation\" + 0.027*\"decor\" + 0.024*\"color\" + 0.023*\"issu\" + 0.022*\"level\" + 0.021*\"year\" + 0.020*\"favorit\" + 0.019*\"engin\"\n",
      "Topic: 20 \n",
      "Words: 0.107*\"live\" + 0.071*\"tweet\" + 0.042*\"twitter\" + 0.036*\"listen\" + 0.036*\"fantast\" + 0.024*\"forget\" + 0.021*\"bring\" + 0.016*\"mumbai\" + 0.015*\"pain\" + 0.014*\"poor\"\n",
      "Topic: 21 \n",
      "Words: 0.070*\"group\" + 0.047*\"citi\" + 0.040*\"injuri\" + 0.029*\"requir\" + 0.029*\"contact\" + 0.028*\"portland\" + 0.025*\"payment\" + 0.024*\"minut\" + 0.021*\"wear\" + 0.017*\"privat\"\n",
      "Topic: 22 \n",
      "Words: 0.079*\"see\" + 0.035*\"lead\" + 0.033*\"tip\" + 0.027*\"girl\" + 0.026*\"bear\" + 0.025*\"pictur\" + 0.023*\"reward\" + 0.015*\"victim\" + 0.013*\"disord\" + 0.012*\"mike\"\n",
      "Topic: 23 \n",
      "Words: 0.044*\"link\" + 0.039*\"list\" + 0.039*\"greet\" + 0.035*\"post\" + 0.034*\"date\" + 0.031*\"watch\" + 0.030*\"season\" + 0.024*\"cloth\" + 0.022*\"click\" + 0.019*\"helplin\"\n",
      "Topic: 24 \n",
      "Words: 0.158*\"love\" + 0.040*\"juli\" + 0.039*\"chuckgrassley\" + 0.038*\"real\" + 0.029*\"password\" + 0.026*\"estat\" + 0.026*\"kid\" + 0.024*\"diagnost\" + 0.023*\"day\" + 0.021*\"armi\"\n",
      "Topic: 25 \n",
      "Words: 0.054*\"bank\" + 0.044*\"fatal\" + 0.040*\"amaz\" + 0.039*\"countri\" + 0.031*\"invest\" + 0.031*\"gujarat\" + 0.026*\"india\" + 0.021*\"loan\" + 0.021*\"easi\" + 0.021*\"access\"\n",
      "Topic: 26 \n",
      "Words: 0.041*\"right\" + 0.025*\"tell\" + 0.024*\"peopl\" + 0.020*\"activ\" + 0.020*\"want\" + 0.020*\"think\" + 0.018*\"like\" + 0.018*\"know\" + 0.017*\"go\" + 0.016*\"parent\"\n",
      "Topic: 27 \n",
      "Words: 0.082*\"state\" + 0.045*\"extremist\" + 0.035*\"stand\" + 0.031*\"american\" + 0.023*\"result\" + 0.018*\"avoid\" + 0.018*\"weight\" + 0.018*\"brain\" + 0.016*\"loss\" + 0.015*\"dont\"\n",
      "Topic: 28 \n",
      "Words: 0.056*\"file\" + 0.044*\"court\" + 0.039*\"failur\" + 0.032*\"debt\" + 0.028*\"cross\" + 0.027*\"allow\" + 0.025*\"day\" + 0.021*\"head\" + 0.018*\"leav\" + 0.018*\"alleg\"\n",
      "Topic: 29 \n",
      "Words: 0.034*\"youth\" + 0.027*\"awar\" + 0.022*\"cousin\" + 0.017*\"steal\" + 0.012*\"appl\" + 0.012*\"accessori\" + 0.011*\"barri\" + 0.011*\"pray\" + 0.011*\"roger\" + 0.010*\"furnitur\"\n",
      "Topic: 30 \n",
      "Words: 0.131*\"need\" + 0.083*\"urgent\" + 0.072*\"hospit\" + 0.065*\"blood\" + 0.045*\"unit\" + 0.043*\"bloodmatt\" + 0.029*\"metlif\" + 0.029*\"donat\" + 0.021*\"aug_\" + 0.020*\"hyderabad\"\n",
      "Topic: 31 \n",
      "Words: 0.323*\"whatsapp\" + 0.101*\"market\" + 0.064*\"decid\" + 0.030*\"januari\" + 0.026*\"internet\" + 0.021*\"young\" + 0.013*\"probe\" + 0.013*\"artist\" + 0.012*\"messag\" + 0.012*\"encourag\"\n",
      "Topic: 32 \n",
      "Words: 0.070*\"feel\" + 0.062*\"email\" + 0.056*\"session\" + 0.054*\"free\" + 0.049*\"gmail\" + 0.048*\"learn\" + 0.045*\"send\" + 0.041*\"contact\" + 0.041*\"center\" + 0.035*\"nearest\"\n",
      "Topic: 33 \n",
      "Words: 0.102*\"week\" + 0.078*\"kidney\" + 0.046*\"usual\" + 0.037*\"spabvjgym\" + 0.034*\"fast\" + 0.026*\"tomorrow\" + 0.023*\"work\" + 0.023*\"shop\" + 0.021*\"anniversari\" + 0.020*\"queri\"\n",
      "Topic: 34 \n",
      "Words: 0.069*\"senat\" + 0.044*\"trump\" + 0.035*\"demand\" + 0.029*\"attack\" + 0.026*\"power\" + 0.024*\"presid\" + 0.023*\"incit\" + 0.022*\"run\" + 0.015*\"congress\" + 0.014*\"realdonaldtrump\"\n",
      "Topic: 35 \n",
      "Words: 0.072*\"money\" + 0.054*\"hide\" + 0.038*\"time\" + 0.033*\"celebr\" + 0.031*\"bubu\" + 0.028*\"return\" + 0.028*\"help\" + 0.028*\"today\" + 0.028*\"auto\" + 0.028*\"record\"\n",
      "Topic: 36 \n",
      "Words: 0.116*\"text\" + 0.071*\"open\" + 0.053*\"free\" + 0.050*\"night\" + 0.042*\"cash\" + 0.025*\"friday\" + 0.020*\"door\" + 0.019*\"drink\" + 0.019*\"ride\" + 0.016*\"park\"\n",
      "Topic: 37 \n",
      "Words: 0.041*\"beauti\" + 0.029*\"wide\" + 0.026*\"worldwid\" + 0.024*\"second\" + 0.022*\"women\" + 0.022*\"dubai\" + 0.021*\"short\" + 0.019*\"price\" + 0.018*\"best\" + 0.016*\"suit\"\n",
      "Topic: 38 \n",
      "Words: 0.222*\"number\" + 0.183*\"phone\" + 0.054*\"brother\" + 0.047*\"cell\" + 0.035*\"justin\" + 0.023*\"call\" + 0.017*\"mobil\" + 0.015*\"possibl\" + 0.011*\"dial\" + 0.010*\"complaint\"\n",
      "Topic: 39 \n",
      "Words: 0.060*\"buyer\" + 0.031*\"fee\" + 0.031*\"properti\" + 0.029*\"sale\" + 0.028*\"alert\" + 0.026*\"sttdhrayw\" + 0.025*\"hous\" + 0.022*\"view\" + 0.017*\"rent\" + 0.017*\"sister\"\n",
      "Topic: 40 \n",
      "Words: 0.053*\"free\" + 0.044*\"quot\" + 0.041*\"busi\" + 0.039*\"servic\" + 0.031*\"websit\" + 0.030*\"insur\" + 0.028*\"today\" + 0.024*\"contact\" + 0.023*\"compani\" + 0.023*\"visit\"\n",
      "Topic: 41 \n",
      "Words: 0.064*\"polic\" + 0.048*\"station\" + 0.041*\"see\" + 0.035*\"credit\" + 0.032*\"help\" + 0.031*\"near\" + 0.030*\"repair\" + 0.029*\"replac\" + 0.019*\"cup\" + 0.018*\"republican\"\n",
      "Topic: 42 \n",
      "Words: 0.067*\"support\" + 0.037*\"purchas\" + 0.037*\"final\" + 0.027*\"appreci\" + 0.025*\"choic\" + 0.024*\"land\" + 0.021*\"depend\" + 0.021*\"street\" + 0.020*\"famili\" + 0.020*\"step\"\n",
      "Topic: 43 \n",
      "Words: 0.033*\"ask\" + 0.030*\"reserv\" + 0.027*\"reach\" + 0.027*\"weekend\" + 0.025*\"even\" + 0.023*\"dear\" + 0.021*\"question\" + 0.020*\"report\" + 0.019*\"tabl\" + 0.019*\"today\"\n",
      "Topic: 44 \n",
      "Words: 0.131*\"retweet\" + 0.101*\"friend\" + 0.092*\"offic\" + 0.088*\"follow\" + 0.061*\"person\" + 0.047*\"receiv\" + 0.034*\"address\" + 0.032*\"like\" + 0.026*\"lifetim\" + 0.018*\"drop\"\n",
      "Topic: 45 \n",
      "Words: 0.084*\"guy\" + 0.047*\"truth\" + 0.044*\"scotus\" + 0.036*\"yzkqiskwvv\" + 0.034*\"break\" + 0.033*\"tri\" + 0.020*\"soon\" + 0.018*\"nomine\" + 0.016*\"cheap\" + 0.013*\"promis\"\n",
      "Topic: 46 \n",
      "Words: 0.135*\"home\" + 0.097*\"sell\" + 0.051*\"best\" + 0.040*\"hesit\" + 0.033*\"world\" + 0.032*\"winner\" + 0.027*\"buy\" + 0.026*\"free\" + 0.024*\"price\" + 0.024*\"hello\"\n",
      "Topic: 47 \n",
      "Words: 0.088*\"kavanaugh\" + 0.042*\"stop\" + 0.038*\"driver\" + 0.031*\"chanc\" + 0.030*\"give\" + 0.027*\"senat\" + 0.025*\"nomin\" + 0.019*\"approv\" + 0.018*\"judg\" + 0.015*\"diamond\"\n",
      "Topic: 48 \n",
      "Words: 0.135*\"ticket\" + 0.081*\"sure\" + 0.064*\"sibl\" + 0.053*\"write\" + 0.029*\"age\" + 0.018*\"beach\" + 0.018*\"generat\" + 0.017*\"fabric\" + 0.014*\"articl\" + 0.010*\"hunger\"\n",
      "Topic: 49 \n",
      "Words: 0.041*\"djsbu\" + 0.039*\"clara\" + 0.039*\"nationwid\" + 0.034*\"blue\" + 0.032*\"shirt\" + 0.031*\"shoe\" + 0.020*\"premium\" + 0.019*\"adult\" + 0.018*\"mutual\" + 0.017*\"pilot\"\n"
     ]
    }
   ],
   "source": [
    "for idx, topic in lda_model.print_topics(-1):\n",
    "    print('Topic: {} \\nWords: {}'.format(idx, topic))"
   ]
  },
  {
   "cell_type": "code",
   "execution_count": 19,
   "metadata": {
    "scrolled": false
   },
   "outputs": [
    {
     "name": "stdout",
     "output_type": "stream",
     "text": [
      "Topic: 0 Word: 0.014*\"niteflirt\" + 0.013*\"store\" + 0.013*\"flirt\" + 0.012*\"celebr\" + 0.012*\"anniversari\" + 0.011*\"ticket\" + 0.011*\"today\" + 0.010*\"lovekoto\" + 0.010*\"psvwandeam\" + 0.009*\"favorit\"\n",
      "\n",
      "Topic: 1 Word: 0.021*\"rental\" + 0.017*\"dubai\" + 0.016*\"tip\" + 0.012*\"chicken\" + 0.010*\"miss\" + 0.010*\"find\" + 0.009*\"roof\" + 0.008*\"depend\" + 0.008*\"massag\" + 0.008*\"adida\"\n",
      "\n",
      "Topic: 2 Word: 0.012*\"immigr\" + 0.012*\"nomine\" + 0.009*\"cousin\" + 0.009*\"illeg\" + 0.009*\"journey\" + 0.008*\"wallet\" + 0.008*\"roll\" + 0.007*\"met\" + 0.007*\"welfar\" + 0.007*\"audi\"\n",
      "\n",
      "Topic: 3 Word: 0.012*\"car\" + 0.012*\"footbal\" + 0.012*\"temporari\" + 0.011*\"specialist\" + 0.009*\"anfield\" + 0.008*\"sept\" + 0.007*\"djemba\" + 0.007*\"negoti\" + 0.007*\"goodluck\" + 0.007*\"contain\"\n",
      "\n",
      "Topic: 4 Word: 0.045*\"precious\" + 0.023*\"clara\" + 0.022*\"portland\" + 0.017*\"traffic\" + 0.013*\"norton\" + 0.012*\"push\" + 0.010*\"branch\" + 0.008*\"enquir\" + 0.008*\"truck\" + 0.008*\"shame\"\n",
      "\n",
      "Topic: 5 Word: 0.011*\"court\" + 0.010*\"suprem\" + 0.010*\"weight\" + 0.007*\"cancel\" + 0.007*\"order\" + 0.007*\"voter\" + 0.007*\"lose\" + 0.006*\"refund\" + 0.006*\"loss\" + 0.006*\"record\"\n",
      "\n",
      "Topic: 6 Word: 0.026*\"pinki\" + 0.017*\"even\" + 0.012*\"alert\" + 0.011*\"monday\" + 0.010*\"iphon\" + 0.009*\"have\" + 0.008*\"protect\" + 0.008*\"help\" + 0.008*\"go\" + 0.008*\"mueller\"\n",
      "\n",
      "Topic: 7 Word: 0.038*\"nairobi\" + 0.027*\"confidenti\" + 0.024*\"test\" + 0.022*\"lunch\" + 0.021*\"clinic\" + 0.021*\"consult\" + 0.020*\"walk\" + 0.020*\"avenu\" + 0.020*\"kenya\" + 0.020*\"medic\"\n",
      "\n",
      "Topic: 8 Word: 0.010*\"book\" + 0.009*\"januari\" + 0.007*\"spot\" + 0.007*\"taxi\" + 0.007*\"hotel\" + 0.007*\"free\" + 0.007*\"airport\" + 0.007*\"safeti\" + 0.007*\"junk\" + 0.007*\"abuja\"\n",
      "\n",
      "Topic: 9 Word: 0.012*\"sell\" + 0.011*\"process\" + 0.010*\"free\" + 0.010*\"guy\" + 0.010*\"break\" + 0.009*\"cheap\" + 0.009*\"consult\" + 0.009*\"buy\" + 0.009*\"home\" + 0.008*\"help\"\n",
      "\n",
      "Topic: 10 Word: 0.015*\"land\" + 0.014*\"whereabout\" + 0.012*\"miss\" + 0.011*\"milk\" + 0.010*\"passbi\" + 0.009*\"download\" + 0.009*\"plot\" + 0.007*\"london\" + 0.007*\"free\" + 0.006*\"site\"\n",
      "\n",
      "Topic: 11 Word: 0.033*\"scotus\" + 0.028*\"fatal\" + 0.010*\"replac\" + 0.009*\"viva\" + 0.009*\"uniqu\" + 0.009*\"safe\" + 0.008*\"item\" + 0.008*\"stopkavanaugh\" + 0.008*\"remov\" + 0.008*\"senat\"\n",
      "\n",
      "Topic: 12 Word: 0.015*\"countri\" + 0.014*\"debt\" + 0.011*\"recruit\" + 0.008*\"flee\" + 0.008*\"mehul\" + 0.008*\"republican\" + 0.007*\"tire\" + 0.007*\"appli\" + 0.006*\"vacanc\" + 0.006*\"file\"\n",
      "\n",
      "Topic: 13 Word: 0.074*\"kavanaugh\" + 0.047*\"articl\" + 0.044*\"loaf\" + 0.039*\"senat\" + 0.033*\"extremist\" + 0.030*\"dialysi\" + 0.022*\"judg\" + 0.022*\"nomin\" + 0.016*\"confirm\" + 0.013*\"stall\"\n",
      "\n",
      "Topic: 14 Word: 0.020*\"assist\" + 0.019*\"thank\" + 0.018*\"hello\" + 0.017*\"number\" + 0.017*\"sorri\" + 0.014*\"team\" + 0.014*\"contact\" + 0.013*\"help\" + 0.011*\"hear\" + 0.010*\"reach\"\n",
      "\n",
      "Topic: 15 Word: 0.013*\"sampl\" + 0.009*\"reward\" + 0.008*\"leagu\" + 0.008*\"accid\" + 0.007*\"free\" + 0.006*\"survey\" + 0.006*\"admiss\" + 0.006*\"enrol\" + 0.006*\"junior\" + 0.005*\"director\"\n",
      "\n",
      "Topic: 16 Word: 0.029*\"naira\" + 0.029*\"cake\" + 0.022*\"satisfact\" + 0.022*\"hotlin\" + 0.020*\"guarante\" + 0.019*\"vanilla\" + 0.018*\"lago\" + 0.018*\"thecakeplug\" + 0.018*\"deliveri\" + 0.014*\"inch\"\n",
      "\n",
      "Topic: 17 Word: 0.019*\"djsbu\" + 0.011*\"bake\" + 0.010*\"delet\" + 0.010*\"hustl\" + 0.009*\"order\" + 0.009*\"own\" + 0.009*\"rack\" + 0.008*\"support\" + 0.007*\"garag\" + 0.007*\"backyard\"\n",
      "\n",
      "Topic: 18 Word: 0.030*\"semest\" + 0.026*\"parent\" + 0.024*\"decid\" + 0.023*\"sttdhrayw\" + 0.021*\"lago\" + 0.020*\"hope\" + 0.018*\"retweet\" + 0.016*\"fee\" + 0.013*\"month\" + 0.013*\"cross\"\n",
      "\n",
      "Topic: 19 Word: 0.057*\"chuckgrassley\" + 0.055*\"societi\" + 0.052*\"median\" + 0.023*\"angel\" + 0.019*\"anim\" + 0.015*\"foster\" + 0.015*\"shelter\" + 0.012*\"ilupeju\" + 0.011*\"bargain\" + 0.010*\"adopt\"\n",
      "\n",
      "Topic: 20 Word: 0.028*\"market\" + 0.015*\"media\" + 0.015*\"social\" + 0.014*\"digit\" + 0.014*\"busi\" + 0.010*\"internet\" + 0.007*\"bill\" + 0.007*\"solut\" + 0.006*\"contact\" + 0.006*\"grow\"\n",
      "\n",
      "Topic: 21 Word: 0.024*\"mcdonald\" + 0.020*\"poll\" + 0.014*\"advis\" + 0.013*\"vote\" + 0.012*\"ride\" + 0.011*\"thor\" + 0.007*\"grade\" + 0.007*\"roger\" + 0.007*\"attent\" + 0.007*\"rmazzara\"\n",
      "\n",
      "Topic: 22 Word: 0.017*\"crisi\" + 0.017*\"salari\" + 0.014*\"save\" + 0.012*\"increas\" + 0.011*\"toll\" + 0.011*\"dollar\" + 0.010*\"billion\" + 0.010*\"pump\" + 0.010*\"reduc\" + 0.009*\"laptop\"\n",
      "\n",
      "Topic: 23 Word: 0.015*\"valuat\" + 0.011*\"instant\" + 0.010*\"home\" + 0.010*\"click\" + 0.010*\"lifestyl\" + 0.009*\"lifetim\" + 0.009*\"final\" + 0.009*\"wasn\" + 0.009*\"free\" + 0.009*\"plug\"\n",
      "\n",
      "Topic: 24 Word: 0.060*\"problem\" + 0.059*\"generat\" + 0.059*\"incom\" + 0.059*\"fault\" + 0.057*\"age\" + 0.054*\"write\" + 0.053*\"cqut\" + 0.053*\"textx\" + 0.053*\"sure\" + 0.052*\"pay\"\n",
      "\n",
      "Topic: 25 Word: 0.015*\"daan\" + 0.012*\"shoe\" + 0.011*\"malaysia\" + 0.011*\"veteran\" + 0.011*\"buttercream\" + 0.010*\"month\" + 0.009*\"carleas\" + 0.009*\"benz\" + 0.009*\"partner\" + 0.009*\"steal\"\n",
      "\n",
      "Topic: 26 Word: 0.018*\"brother\" + 0.017*\"usual\" + 0.016*\"see\" + 0.016*\"help\" + 0.016*\"greet\" + 0.015*\"failur\" + 0.015*\"spabvjgym\" + 0.014*\"twice\" + 0.013*\"request\" + 0.012*\"session\"\n",
      "\n",
      "Topic: 27 Word: 0.015*\"tile\" + 0.013*\"research\" + 0.012*\"fund\" + 0.011*\"smile\" + 0.010*\"block\" + 0.010*\"wall\" + 0.010*\"appropri\" + 0.009*\"hous\" + 0.009*\"floor\" + 0.009*\"offic\"\n",
      "\n",
      "Topic: 28 Word: 0.022*\"sort\" + 0.021*\"committe\" + 0.020*\"kickoff\" + 0.018*\"fidel\" + 0.018*\"congressman\" + 0.018*\"impeach\" + 0.016*\"andi\" + 0.015*\"violenc\" + 0.012*\"theresa\" + 0.012*\"emma\"\n",
      "\n",
      "Topic: 29 Word: 0.027*\"blood\" + 0.027*\"gujarat\" + 0.025*\"bloodmatt\" + 0.023*\"hospit\" + 0.022*\"helplin\" + 0.021*\"need\" + 0.018*\"urgent\" + 0.015*\"taylor\" + 0.014*\"unit\" + 0.013*\"delhi\"\n",
      "\n",
      "Topic: 30 Word: 0.057*\"bread\" + 0.027*\"flavor\" + 0.017*\"decor\" + 0.013*\"prelim\" + 0.013*\"friendship\" + 0.011*\"sarah\" + 0.011*\"happi\" + 0.010*\"harar\" + 0.010*\"assess\" + 0.008*\"oppos\"\n",
      "\n",
      "Topic: 31 Word: 0.022*\"jisoo\" + 0.014*\"queen\" + 0.014*\"choksi\" + 0.012*\"stori\" + 0.010*\"wjdamqz\" + 0.009*\"updat\" + 0.009*\"address\" + 0.008*\"capc\" + 0.008*\"lane\" + 0.007*\"plumb\"\n",
      "\n",
      "Topic: 32 Word: 0.012*\"broadcast\" + 0.011*\"septemb\" + 0.010*\"record\" + 0.009*\"tour\" + 0.009*\"giant\" + 0.008*\"ticket\" + 0.008*\"delici\" + 0.007*\"camp\" + 0.007*\"live\" + 0.005*\"freedom\"\n",
      "\n",
      "Topic: 33 Word: 0.020*\"chocol\" + 0.020*\"review\" + 0.017*\"paper\" + 0.016*\"daili\" + 0.014*\"sunris\" + 0.013*\"biafratv\" + 0.012*\"fine\" + 0.011*\"eat\" + 0.010*\"whatsapp\" + 0.010*\"cathi\"\n",
      "\n",
      "Topic: 34 Word: 0.037*\"blood\" + 0.035*\"urgent\" + 0.031*\"hospit\" + 0.027*\"bloodmatt\" + 0.022*\"need\" + 0.021*\"hyderabad\" + 0.020*\"trulymaheshh\" + 0.016*\"aug_\" + 0.013*\"loos\" + 0.012*\"requir\"\n",
      "\n",
      "Topic: 35 Word: 0.051*\"number\" + 0.042*\"phone\" + 0.029*\"link\" + 0.027*\"aadhaar\" + 0.026*\"ijlxgbbl\" + 0.009*\"brain\" + 0.009*\"nationwid\" + 0.008*\"memo\" + 0.007*\"fabric\" + 0.007*\"older\"\n",
      "\n",
      "Topic: 36 Word: 0.059*\"whatsapp\" + 0.048*\"order\" + 0.032*\"place\" + 0.032*\"kind\" + 0.028*\"send\" + 0.019*\"size\" + 0.011*\"avail\" + 0.010*\"deliveri\" + 0.008*\"stock\" + 0.008*\"footwear\"\n",
      "\n",
      "Topic: 37 Word: 0.026*\"polic\" + 0.021*\"station\" + 0.020*\"see\" + 0.020*\"sister\" + 0.019*\"nearest\" + 0.018*\"token\" + 0.016*\"retweet\" + 0.015*\"miss\" + 0.014*\"bonus\" + 0.013*\"alleg\"\n",
      "\n",
      "Topic: 38 Word: 0.010*\"follow\" + 0.009*\"clean\" + 0.009*\"free\" + 0.009*\"giveaway\" + 0.008*\"cours\" + 0.007*\"book\" + 0.007*\"servic\" + 0.007*\"design\" + 0.007*\"offer\" + 0.007*\"instagram\"\n",
      "\n",
      "Topic: 39 Word: 0.024*\"antifa\" + 0.011*\"violenc\" + 0.010*\"cultur\" + 0.009*\"member\" + 0.009*\"activ\" + 0.008*\"boss\" + 0.008*\"attack\" + 0.008*\"club\" + 0.008*\"pray\" + 0.007*\"highest\"\n",
      "\n",
      "Topic: 40 Word: 0.025*\"justin\" + 0.023*\"youtub\" + 0.020*\"video\" + 0.019*\"wish\" + 0.010*\"subscrib\" + 0.009*\"collar\" + 0.009*\"channel\" + 0.009*\"renew\" + 0.008*\"unseal\" + 0.008*\"what\"\n",
      "\n",
      "Topic: 41 Word: 0.014*\"crore\" + 0.013*\"senat\" + 0.012*\"amend\" + 0.010*\"repeal\" + 0.010*\"loan\" + 0.009*\"jersey\" + 0.009*\"transpar\" + 0.009*\"cater\" + 0.008*\"refin\" + 0.008*\"distribut\"\n",
      "\n",
      "Topic: 42 Word: 0.021*\"driver\" + 0.013*\"holiday\" + 0.013*\"vacat\" + 0.013*\"student\" + 0.012*\"weekend\" + 0.010*\"volunt\" + 0.009*\"concept\" + 0.008*\"bathroom\" + 0.008*\"perfum\" + 0.008*\"includ\"\n",
      "\n",
      "Topic: 43 Word: 0.019*\"hesit\" + 0.018*\"real\" + 0.016*\"question\" + 0.016*\"estat\" + 0.014*\"home\" + 0.014*\"reach\" + 0.009*\"answer\" + 0.009*\"list\" + 0.009*\"look\" + 0.008*\"realtor\"\n",
      "\n",
      "Topic: 44 Word: 0.027*\"bubu\" + 0.011*\"vote\" + 0.009*\"yall\" + 0.008*\"batch\" + 0.008*\"theft\" + 0.008*\"incid\" + 0.007*\"load\" + 0.007*\"crime\" + 0.006*\"zlhrlawyer\" + 0.006*\"anonym\"\n",
      "\n",
      "Topic: 45 Word: 0.023*\"fast\" + 0.019*\"album\" + 0.018*\"larg\" + 0.018*\"queri\" + 0.017*\"bear\" + 0.017*\"uezva\" + 0.016*\"possibl\" + 0.013*\"busi\" + 0.013*\"offic\" + 0.013*\"seminar\"\n",
      "\n",
      "Topic: 46 Word: 0.035*\"upset\" + 0.034*\"handl\" + 0.034*\"truth\" + 0.033*\"hide\" + 0.033*\"yzkqiskwvv\" + 0.031*\"file\" + 0.027*\"guy\" + 0.025*\"day\" + 0.024*\"offic\" + 0.024*\"love\"\n",
      "\n",
      "Topic: 47 Word: 0.041*\"buyer\" + 0.037*\"insur\" + 0.027*\"sibl\" + 0.027*\"quot\" + 0.025*\"kidney\" + 0.024*\"auto\" + 0.022*\"car\" + 0.022*\"metlif\" + 0.020*\"today\" + 0.019*\"help\"\n",
      "\n",
      "Topic: 48 Word: 0.028*\"coordin\" + 0.024*\"center\" + 0.022*\"gmail\" + 0.021*\"mass\" + 0.021*\"indoctrin\" + 0.020*\"addcentr\" + 0.020*\"mcgi\" + 0.020*\"email\" + 0.017*\"live\" + 0.015*\"contact\"\n",
      "\n",
      "Topic: 49 Word: 0.009*\"announc\" + 0.009*\"deadlin\" + 0.008*\"winner\" + 0.007*\"mainten\" + 0.006*\"like\" + 0.006*\"good\" + 0.006*\"mark\" + 0.006*\"free\" + 0.006*\"doctor\" + 0.006*\"need\"\n",
      "\n"
     ]
    }
   ],
   "source": [
    "lda_model_tfidf = gensim.models.LdaMulticore(corpus_tfidf, num_topics=50, id2word=dictionary, passes=2, workers=4)\n",
    "for idx, topic in lda_model_tfidf.print_topics(-1):\n",
    "    print('Topic: {} Word: {}'.format(idx, topic))\n",
    "    print()"
   ]
  },
  {
   "cell_type": "code",
   "execution_count": null,
   "metadata": {},
   "outputs": [],
   "source": []
  }
 ],
 "metadata": {
  "kernelspec": {
   "display_name": "Python 3",
   "language": "python",
   "name": "python3"
  },
  "language_info": {
   "codemirror_mode": {
    "name": "ipython",
    "version": 3
   },
   "file_extension": ".py",
   "mimetype": "text/x-python",
   "name": "python",
   "nbconvert_exporter": "python",
   "pygments_lexer": "ipython3",
   "version": "3.6.4"
  }
 },
 "nbformat": 4,
 "nbformat_minor": 2
}
