{
 "cells": [
  {
   "cell_type": "code",
   "execution_count": 26,
   "metadata": {},
   "outputs": [],
   "source": [
    "results = \"\"\"1. dit\n",
    "\n",
    "2. vine\n",
    "\n",
    "3. youtube\n",
    "\n",
    "4. video\n",
    "\n",
    "5. pic\n",
    "\n",
    "6. clip\n",
    "\n",
    "13. vlog\"\"\""
   ]
  },
  {
   "cell_type": "code",
   "execution_count": 27,
   "metadata": {},
   "outputs": [
    {
     "data": {
      "text/plain": [
       "['dit', 'vine', 'youtube', 'video', 'pic', 'clip', 'vlog']"
      ]
     },
     "execution_count": 27,
     "metadata": {},
     "output_type": "execute_result"
    }
   ],
   "source": [
    "lis = []\n",
    "\n",
    "for line in results.split('\\n'):\n",
    "    pos = line.find('.')\n",
    "    word = line[pos+1:]\n",
    "    if len(word.strip()) > 1:\n",
    "        lis.append(word.strip())\n",
    "lis"
   ]
  },
  {
   "cell_type": "code",
   "execution_count": null,
   "metadata": {},
   "outputs": [],
   "source": []
  }
 ],
 "metadata": {
  "kernelspec": {
   "display_name": "Python 3",
   "language": "python",
   "name": "python3"
  },
  "language_info": {
   "codemirror_mode": {
    "name": "ipython",
    "version": 3
   },
   "file_extension": ".py",
   "mimetype": "text/x-python",
   "name": "python",
   "nbconvert_exporter": "python",
   "pygments_lexer": "ipython3",
   "version": "3.6.4"
  }
 },
 "nbformat": 4,
 "nbformat_minor": 2
}
