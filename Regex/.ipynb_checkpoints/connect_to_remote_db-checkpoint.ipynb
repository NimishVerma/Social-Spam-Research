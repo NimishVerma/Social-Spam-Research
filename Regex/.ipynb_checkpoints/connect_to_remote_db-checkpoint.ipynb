{
 "cells": [
  {
   "cell_type": "code",
   "execution_count": 2,
   "metadata": {},
   "outputs": [
    {
     "name": "stdout",
     "output_type": "stream",
     "text": [
      "['system.indexes', 'posts']\n"
     ]
    }
   ],
   "source": [
    "import pymongo\n",
    "\n",
    "### -h ds241121.mlab.com:41121 -d social_data -c posts -u user -p pass1234 --file test.json\n",
    "\n",
    "connection_params = {\n",
    "    'user': 'user',\n",
    "    'password': 'pass1234',\n",
    "    'host': 'ds241121.mlab.com',\n",
    "    'port': 41121,\n",
    "    'namespace': 'social_data',\n",
    "}\n",
    "\n",
    "connection = pymongo.MongoClient(\n",
    "    'mongodb://{user}:{password}@{host}:'\n",
    "    '{port}/{namespace}'.format(**connection_params)\n",
    ")\n",
    "\n",
    "db = connection.social_data\n",
    "\n",
    "print(db.list_collection_names())"
   ]
  },
  {
   "cell_type": "code",
   "execution_count": 3,
   "metadata": {},
   "outputs": [
    {
     "data": {
      "text/plain": [
       "Collection(Database(MongoClient(host=['ds241121.mlab.com:41121'], document_class=dict, tz_aware=False, connect=True), 'social_data'), 'posts')"
      ]
     },
     "execution_count": 3,
     "metadata": {},
     "output_type": "execute_result"
    }
   ],
   "source": [
    "coll = db.posts\n",
    "coll"
   ]
  },
  {
   "cell_type": "code",
   "execution_count": 6,
   "metadata": {},
   "outputs": [],
   "source": [
    "curs=db.posts.find().limit(1000)\n",
    "list_to_be_fill_with_documents=[]\n",
    "\n",
    "for doc in curs:\n",
    "    list_to_be_fill_with_documents.append(doc)\n"
   ]
  },
  {
   "cell_type": "code",
   "execution_count": 7,
   "metadata": {},
   "outputs": [
    {
     "data": {
      "text/plain": [
       "\"for doc in list_to_be_fill_with_documents:\\n    print (doc['content'])\""
      ]
     },
     "execution_count": 7,
     "metadata": {},
     "output_type": "execute_result"
    }
   ],
   "source": [
    "\"\"\"for doc in list_to_be_fill_with_documents:\n",
    "    print (doc['content'])\"\"\""
   ]
  },
  {
   "cell_type": "code",
   "execution_count": 8,
   "metadata": {
    "collapsed": true
   },
   "outputs": [],
   "source": [
    "import numpy as np\n",
    "np_arr = np.asarray(list_to_be_fill_with_documents)"
   ]
  },
  {
   "cell_type": "code",
   "execution_count": 9,
   "metadata": {},
   "outputs": [
    {
     "data": {
      "text/plain": [
       "numpy.ndarray"
      ]
     },
     "execution_count": 9,
     "metadata": {},
     "output_type": "execute_result"
    }
   ],
   "source": [
    "type(np_arr)"
   ]
  },
  {
   "cell_type": "code",
   "execution_count": 10,
   "metadata": {},
   "outputs": [
    {
     "name": "stdout",
     "output_type": "stream",
     "text": [
      "[ {'_id': 176089660850, 'keyword': 'call me', 'username': 'youngmar4', 'user_id': -1, 'content': '180720 MINWOO OFFICIAL TWITTER UPDATE ~\\nPlease watch a lot the call me MV♡ https://t.co/4y9ym2IlzX\\nCr: BOYF_MW | Trans by me youngmar4 ^-^💕', 'timestamp': '20 Jul 2018', 'location': -1, 'hashtags': ['Minwoo', 'No Minwoo', 'boyfriendband', 'Boyfriend', 'Call Me', 'twitter', 'Japan', 'my translation'], 'Retweet': -1, 'Fav': -1, 'source': 'tumblr', 'date_added': '2018-07-20', 'in_reply_to': -1}\n",
      " {'_id': 176091934114, 'keyword': 'call me', 'username': 'streetwolf', 'user_id': -1, 'content': 'New Music Alert: “Call Me” by Alfie\\xa0ConnorExternal image[bsa_pro_ad_space id=2]\\n\\n“Call Me” by Alfie Connor\\nUK based indie singer/songwriter Alfie Connor takes a refreshing approach to his storytelling and his melodies and delivers something amazing. The young talented artist gives with “Call Me”a battle of mind and heart in which the want is still but pride also enters the scene. He wants a call but also does not want to think about it, its the ego at…View On WordPress', 'timestamp': '20 Jul 2018', 'location': -1, 'hashtags': ['alfie connor', 'call me', 'indie music', 'indie pop', 'New Music', 'new music alert', 'uk'], 'Retweet': -1, 'Fav': -1, 'source': 'tumblr', 'date_added': '2018-07-20', 'in_reply_to': -1}\n",
      " {'_id': 176078904525, 'keyword': 'call me', 'username': 'soyybeannn', 'user_id': -1, 'content': 'i really miss u tonight ', 'timestamp': '20 Jul 2018', 'location': -1, 'hashtags': ['call me'], 'Retweet': -1, 'Fav': -1, 'source': 'tumblr', 'date_added': '2018-07-20', 'in_reply_to': -1}\n",
      " {'_id': 176068482070, 'keyword': 'call me', 'username': 'youngmar4', 'user_id': -1, 'content': '180719 MINWOO OFFICIAL INSTAGRAM UPDATE ~\\nIt is really hot so please everybody take care😶\\nみんな あついから きをつけてねー！\\nCr: boyminwoo_ | Trans by me youngmar4 *-*💓', 'timestamp': '20 Jul 2018', 'location': -1, 'hashtags': ['Minwoo', 'No Minwoo', 'boyfriendband', 'Boyfriend', 'Call Me', 'instagram', 'Japan', 'my translation'], 'Retweet': -1, 'Fav': -1, 'source': 'tumblr', 'date_added': '2018-07-19', 'in_reply_to': -1}\n",
      " {'_id': 176061969985, 'keyword': 'call me', 'username': 'thelastwizard0fthecentury', 'user_id': -1, 'content': '🤙🏾', 'timestamp': '19 Jul 2018', 'location': -1, 'hashtags': ['gif', 'call me', 'me', 'selfie', 'firefighter', 'uniform', 'ask questions', 'iphone', 'single', 'fun', 'hat', 'hot', 'fire', 'mobile'], 'Retweet': -1, 'Fav': -1, 'source': 'tumblr', 'date_added': '2018-07-19', 'in_reply_to': -1}\n",
      " {'_id': 176037584257, 'keyword': 'call me', 'username': 'lynaixgia', 'user_id': -1, 'content': 'Guys never want to ask for help. Especially if it’s about their car 🤦🏽\\u200d♀️', 'timestamp': '19 Jul 2018', 'location': -1, 'hashtags': ['nigga use me', 'call me', 'he did eventually but still'], 'Retweet': -1, 'Fav': -1, 'source': 'tumblr', 'date_added': '2018-07-19', 'in_reply_to': -1}\n",
      " {'_id': 176054120945, 'keyword': 'call me', 'username': 'wonderland-irwin', 'user_id': -1, 'content': 'One day, knowing that Call Me by Blondie is from the point of view of a male prostitute will be useful information. ', 'timestamp': '19 Jul 2018', 'location': -1, 'hashtags': ['blondie', 'call me'], 'Retweet': -1, 'Fav': -1, 'source': 'tumblr', 'date_added': '2018-07-19', 'in_reply_to': -1}\n",
      " {'_id': 176031253260, 'keyword': 'call me', 'username': 'youngmar4', 'user_id': -1, 'content': '180718 MINWOO OFFICIAL TWITTER UPDATE ~\\n\\nIt is really hot, please don’t eat a lot! Take care of not catching a summer cold♡\\n\\nCr:\\xa0BOYF_MW\\xa0| Trans by me youngmar4 *-*💓', 'timestamp': '19 Jul 2018', 'location': -1, 'hashtags': ['Minwoo', 'No Minwoo', 'boyfriendband', 'Boyfriend', 'Call Me', 'Japan', 'twitter', 'my translation'], 'Retweet': -1, 'Fav': -1, 'source': 'tumblr', 'date_added': '2018-07-18', 'in_reply_to': -1}\n",
      " {'_id': 176018655097, 'keyword': 'call me', 'username': 'effeminate-butch', 'user_id': -1, 'content': '\\n“You can call me, baby… You know I’ll get right back”(via https://open.spotify.com/track/0kIXucnRc7qSdnqAJ1YHOo?si=YvMDnXmGTyGvpBkZWnu1QQ) ', 'timestamp': '18 Jul 2018', 'location': -1, 'hashtags': ['kate nash', 'call me'], 'Retweet': -1, 'Fav': -1, 'source': 'tumblr', 'date_added': '2018-07-18', 'in_reply_to': -1}\n",
      " {'_id': 176025487978, 'keyword': 'call me', 'username': 'robinbannks', 'user_id': -1, 'content': 'Call Me\\nIt’s #289 on Rolling Stone’s 500 Greatest Albums of All Time. Some call it the greatest soul album ever.\\xa0 Released on July 18, 1973 …', 'timestamp': '18 Jul 2018', 'location': -1, 'hashtags': ['70&039;s music', '70&039;s soul', 'Al Green', 'Call Me', 'R&amp;B', 'soul'], 'Retweet': -1, 'Fav': -1, 'source': 'tumblr', 'date_added': '2018-07-18', 'in_reply_to': -1}\n",
      " {'_id': 176004739281, 'keyword': 'call me', 'username': 'thundercock72', 'user_id': -1, 'content': 'Look Terri u say u stay away cause u get hurt. What the hell do I do. Look at me u constantly lying to me about us. Look I need to speak with you. A lot bigger things than this. About the judge who called. I need to talk to you.  Truly', 'timestamp': '18 Jul 2018', 'location': -1, 'hashtags': ['call me'], 'Retweet': -1, 'Fav': -1, 'source': 'tumblr', 'date_added': '2018-07-18', 'in_reply_to': -1}\n",
      " {'_id': 176057664861, 'keyword': 'call me', 'username': 'rocknrollogy', 'user_id': -1, 'content': '1957 HITS ARCHIVE: It’s Not For Me To Say – Johnny\\xa0MathisExternal imageIt’s Not For Me To Say – Johnny Mathis\\nExternal image\\nIt’s Not For Me To Say (Stillman-Allen) by Johnny Mathis, orchestra conducted by Ray Conniff (CD audio source)\\nFollowing his debut hit “Wonderful! Wonderful!” this was Johnny’s second major best-seller, a song which he also performed on-screen in the 1957 film drama “Lizzie.”\\nTIP: Click this link to browse through all 155 videos of the 1957 HITS ARCHIVE…View On WordPress', 'timestamp': '19 Jul 2018', 'location': -1, 'hashtags': ['all the time', 'archive', 'billboard', 'bob moke', 'call me', 'certain smile', 'chances are', 'come to me', 'gina', 'it’s not for me to say', 'johnny mathis', 'lizzie', 'misty', 'music of your life', 'Musicprof78', 'my love for you', 'no love', 'oldies', 'original version', 'ray conniff', 'small world', 'someone', 'starbright', 'the 1956 hits', 'the 1957 hits', 'the 1958 hits', 'too much too little too late', 'twelfth of never', 'warm and tender', 'what will mary say'], 'Retweet': -1, 'Fav': -1, 'source': 'tumblr', 'date_added': '2018-07-19', 'in_reply_to': -1}\n",
      " {'_id': 175910911012, 'keyword': 'call me', 'username': 'thelittlemonsterus', 'user_id': -1, 'content': 'call me', 'timestamp': '15 Jul 2018', 'location': -1, 'hashtags': ['roses', 'rose', 'neon', 'call me', 'purple', 'purple neon'], 'Retweet': -1, 'Fav': -1, 'source': 'tumblr', 'date_added': '2018-07-15', 'in_reply_to': -1}\n",
      " {'_id': 175942091701, 'keyword': 'call me', 'username': 'musclemilkmoolians', 'user_id': -1, 'content': '90sFlav // C a l l m e', 'timestamp': '16 Jul 2018', 'location': -1, 'hashtags': ['90s flav', 'lo fi hip hop', 'music', 'chill', 'call me'], 'Retweet': -1, 'Fav': -1, 'source': 'tumblr', 'date_added': '2018-07-16', 'in_reply_to': -1}\n",
      " {'_id': 175888963443, 'keyword': 'call me', 'username': 'elixirsgelsandherbs', 'user_id': -1, 'content': '', 'timestamp': '15 Jul 2018', 'location': -1, 'hashtags': ['who wants to distract me', 'at work', 'call me', 'text will be too long of a way'], 'Retweet': -1, 'Fav': -1, 'source': 'tumblr', 'date_added': '2018-07-14', 'in_reply_to': -1}\n",
      " {'_id': 175887548355, 'keyword': 'call me', 'username': 'breezyv', 'user_id': -1, 'content': '', 'timestamp': '14 Jul 2018', 'location': -1, 'hashtags': ['call me'], 'Retweet': -1, 'Fav': -1, 'source': 'tumblr', 'date_added': '2018-07-14', 'in_reply_to': -1}\n",
      " {'_id': 175804552465, 'keyword': 'call me', 'username': 'etlandfill', 'user_id': -1, 'content': '', 'timestamp': '12 Jul 2018', 'location': -1, 'hashtags': ['mom’s at joan jett scare me', 'one said she loved me and my gf', 'I attract the older drunk ladies', 'call me'], 'Retweet': -1, 'Fav': -1, 'source': 'tumblr', 'date_added': '2018-07-12', 'in_reply_to': -1}\n",
      " {'_id': 176022868711, 'keyword': 'call me', 'username': 'essentiallypop', 'user_id': -1, 'content': 'DJ Kadel – ‘Call\\xa0Me’External imageExternal image\\nWith a very pleasing music video comes DJ Kadel and ‘Call Me’. The artist originally hails from Cuba, and is now based in Toronto. His music covers the genres of Reggaeton, Hip Hop, and Latino.\\nSinging ‘Call Me’ in his native Spanish, its hip hop rhythms are very soothing, in conjunction with Kadel’s sweet, caramel vocals.\\nCadel is an artist who loves and respects his work. His talent has seen…View On WordPress', 'timestamp': '18 Jul 2018', 'location': -1, 'hashtags': ['Call Me', 'Canada', 'Cuba', 'DJ Kadel', 'hip hop', 'Latino', 'new single', 'new video', 'producer', 'Reggaeton', 'singer', 'songwriter', 'Toronto'], 'Retweet': -1, 'Fav': -1, 'source': 'tumblr', 'date_added': '2018-07-18', 'in_reply_to': -1}\n",
      " {'_id': 175634632418, 'keyword': 'call me', 'username': 'shareefhoe', 'user_id': -1, 'content': 'Have I crossed your mind at least once? Have you thought softly of me since you left? Have you even missed me for a moment?', 'timestamp': '07 Jul 2018', 'location': -1, 'hashtags': ['m', 'call me'], 'Retweet': -1, 'Fav': -1, 'source': 'tumblr', 'date_added': '2018-07-07', 'in_reply_to': -1}\n",
      " {'_id': 175842687243, 'keyword': 'call me', 'username': 'skill-hunter', 'user_id': -1, 'content': 'this is the level of passive-aggressiveness i strive to achieve\\xa0x-post from /r/murderedbywords', 'timestamp': '13 Jul 2018', 'location': -1, 'hashtags': ['/r/murderedbywords', 'omg', 'gurl', 'CALL ME', 'skill'], 'Retweet': -1, 'Fav': -1, 'source': 'tumblr', 'date_added': '2018-07-13', 'in_reply_to': -1}\n",
      " {'_id': 175595634388, 'keyword': 'call me', 'username': 'paco1234578', 'user_id': -1, 'content': '', 'timestamp': '06 Jul 2018', 'location': -1, 'hashtags': ['call me', 'call', 'call me baby', 'i miss you', 'baby', 'call me babygirl'], 'Retweet': -1, 'Fav': -1, 'source': 'tumblr', 'date_added': '2018-07-06', 'in_reply_to': -1}\n",
      " {'_id': 175613630825, 'keyword': 'call me', 'username': 'trashcubegirl', 'user_id': -1, 'content': 'Canción: Call MeGrupo: BTOBMini Álbum: THIS IS USAño: 2018Eunkwang (azul) - líder, vocalista principal y bailarínMinhyuk (rojo) - visual, rapero y bailarín principalChangsub (verde) - vocalista y bailarínHyunsik (amarillo) - vocalista y bailarínPeniel (naranja) - rapero y bailarínIlhoon (rosa) - rapero principal y bailarínSungjae (morado) - maknae, vocalista y bailarín', 'timestamp': '06 Jul 2018', 'location': -1, 'hashtags': ['call me', 'btob', 'this is us', 'color coded', 'sub español', 'traduccion'], 'Retweet': -1, 'Fav': -1, 'source': 'tumblr', 'date_added': '2018-07-06', 'in_reply_to': -1}\n",
      " {'_id': 175573842206, 'keyword': 'call me', 'username': 'p-i-x-e-l-s-fm', 'user_id': -1, 'content': 'music: 90sFlav- call me', 'timestamp': '05 Jul 2018', 'location': -1, 'hashtags': ['pixels', 'mood', 'call me', 'beauty'], 'Retweet': -1, 'Fav': -1, 'source': 'tumblr', 'date_added': '2018-07-05', 'in_reply_to': -1}\n",
      " {'_id': 175590385301, 'keyword': 'call me', 'username': 'seoulbeatz', 'user_id': -1, 'content': '[M/V] 언터쳐블 (Untouchable) - 연락 좀 자주 해 (CALL ME) (Feat. 앤드류 최 Andrew Choi)\\n\\n', 'timestamp': '06 Jul 2018', 'location': -1, 'hashtags': ['Untouchable', 'Andrew Choi', '연락 좀 자주 해', 'CALL ME', 'TS Entertainment', 'khh', 'khiphop', 'korean hiphop', 'video', 'a:afemaleonii'], 'Retweet': -1, 'Fav': -1, 'source': 'tumblr', 'date_added': '2018-07-06', 'in_reply_to': -1}\n",
      " {'_id': 176101476404, 'keyword': 'call me', 'username': 'royal-loki', 'user_id': -1, 'content': 'Oh damn lesbian edition\\xa0I’ll be honest with you anony, Sif for everything because she gives me life and I can’t get enough.\\xa0', 'timestamp': '21 Jul 2018', 'location': -1, 'hashtags': ['ask', 'Sif', 'Jaimie Alexander', 'call me'], 'Retweet': -1, 'Fav': -1, 'source': 'tumblr', 'date_added': '2018-07-20', 'in_reply_to': -1}\n",
      " {'_id': 175398156206, 'keyword': 'call me', 'username': 'chillinbeanss', 'user_id': -1, 'content': 'Someone talk on the phone with me 😕 Dm me for #', 'timestamp': '30 Jun 2018', 'location': -1, 'hashtags': ['talk on the phone', 'otp', 'phone call', 'callme', 'call me', 'call', 'talk', 'phone', 'clean', 'bored', 'internetfriends', 'music', 'cats', 'friends', 'dogs', 'internet', 'chubby', 'fat', 'i like chubby guys'], 'Retweet': -1, 'Fav': -1, 'source': 'tumblr', 'date_added': '2018-06-30', 'in_reply_to': -1}\n",
      " {'_id': 175466318036, 'keyword': 'call me', 'username': 'sorens2015', 'user_id': -1, 'content': 'noisy', 'timestamp': '02 Jul 2018', 'location': -1, 'hashtags': ['blondie', 'debbie harry', '70s music', 'heart of glass', 'call me', 'studio 54'], 'Retweet': -1, 'Fav': -1, 'source': 'tumblr', 'date_added': '2018-07-02', 'in_reply_to': -1}\n",
      " {'_id': 175448740357, 'keyword': 'call me', 'username': 'xingdaeswife', 'user_id': -1, 'content': 'When will I get rich?', 'timestamp': '02 Jul 2018', 'location': -1, 'hashtags': ['I want a sugar something', 'call me'], 'Retweet': -1, 'Fav': -1, 'source': 'tumblr', 'date_added': '2018-07-01', 'in_reply_to': -1}\n",
      " {'_id': 175531382368, 'keyword': 'call me', 'username': 'issavibeex3', 'user_id': -1, 'content': 'Come and talk to me I really wanna meet youuuu🎶🎵', 'timestamp': '04 Jul 2018', 'location': -1, 'hashtags': ['im bored', 'its late', 'text me', 'text post', 'call me', 'lgbtq', 'blackout', 'qwoc selfies', 'wlwoc', 'blacklove', 'blackqueen', 'qwoc', 'black lesbian', 'lgbt selfie', 'lesbians', 'black lgbt', 'the vibe', 'transman', 'transmen', 'talking', 'tmoc', 'femme', 'girls who like girls', 'gay girls', 'gay life', 'whats going on', 'gwlg', 'gwlbg'], 'Retweet': -1, 'Fav': -1, 'source': 'tumblr', 'date_added': '2018-07-04', 'in_reply_to': -1}\n",
      " {'_id': 175382248977, 'keyword': 'call me', 'username': 'baseandbass', 'user_id': -1, 'content': 'Oats were felt in this shirt', 'timestamp': '30 Jun 2018', 'location': -1, 'hashtags': ['me', 'gay selfie', 'mirror', 'hey', 'call me', 'please', 'guy', 'cute guy', 'beard', 'face', 'mine', 'buttons', 'lol', 'glance', 'cute'], 'Retweet': -1, 'Fav': -1, 'source': 'tumblr', 'date_added': '2018-06-29', 'in_reply_to': -1}\n",
      " {'_id': 175346481298, 'keyword': 'call me', 'username': 'ismr2300', 'user_id': -1, 'content': '', 'timestamp': '29 Jun 2018', 'location': -1, 'hashtags': ['quotes', 'sorry', 'never', 'call me'], 'Retweet': -1, 'Fav': -1, 'source': 'tumblr', 'date_added': '2018-06-28', 'in_reply_to': -1}\n",
      " {'_id': 175349990774, 'keyword': 'call me', 'username': 'doeirl', 'user_id': -1, 'content': 'please do it again…', 'timestamp': '29 Jun 2018', 'location': -1, 'hashtags': ['call me', 'personal', 'thoughts', 'text me', 'again'], 'Retweet': -1, 'Fav': -1, 'source': 'tumblr', 'date_added': '2018-06-28', 'in_reply_to': -1}\n",
      " {'_id': 175347984214, 'keyword': 'call me', 'username': 'mcka', 'user_id': -1, 'content': '\\xa0 \\xa0‘\\xa0 i\\xa0‘ m joining talon instead .\\xa0\\xa0‘', 'timestamp': '29 Jun 2018', 'location': -1, 'hashtags': ['⌜ game stats. \\xa0❛ \\xa0dash comm. \\xa0❜ ⌟', '@ talon wyd ?', 'call me'], 'Retweet': -1, 'Fav': -1, 'source': 'tumblr', 'date_added': '2018-06-28', 'in_reply_to': -1}\n",
      " {'_id': 175343821588, 'keyword': 'call me', 'username': 'mayquita', 'user_id': -1, 'content': 'Hi! There is no kiss word on\\xa0Call Me, not yet, but I got kisser instead, I hope it’s okay with you. Also,\\xa0I’m including more than a sentence, to get the context ;)Emma! Where are you? I can’t believe you’re still asleep. Ruby L.Come on, I’m dying here, I need to know! Ruby LOr maybe you’re busy right now… Ruby LTell me you’re not alone in your bed. Ruby LAny more qualities to add to Killian’s list? Good kisser maybe? Ruby LEmma, wake up! Ruby LThere are several sentences including the\\xa0kiss word on my other wip, but since it’s my CSBB story, I’m afraid it will have to wait.Thank you!WIP -\\xa0 Guessing Game ', 'timestamp': '28 Jun 2018', 'location': -1, 'hashtags': ['mayquita writes', 'call me', 'onceuponaprincessworld'], 'Retweet': -1, 'Fav': -1, 'source': 'tumblr', 'date_added': '2018-06-28', 'in_reply_to': -1}\n",
      " {'_id': 175336869065, 'keyword': 'call me', 'username': 'sculpturegallery', 'user_id': -1, 'content': 'Call me by FRANCESCA DALLA BENETTA', 'timestamp': '28 Jun 2018', 'location': -1, 'hashtags': ['FRANCESCA DALLA BENETTA', 'art', 'phone', 'call me', 'telephone'], 'Retweet': -1, 'Fav': -1, 'source': 'tumblr', 'date_added': '2018-06-28', 'in_reply_to': -1}\n",
      " {'_id': 175327901176, 'keyword': 'call me', 'username': 'dondehaypelo', 'user_id': -1, 'content': 'New trending GIF tagged reactions, call me, deray davis via Giphy https://ift.tt/2LVXqHH', 'timestamp': '28 Jun 2018', 'location': -1, 'hashtags': ['IFTTT', 'Giphy', 'reactions', 'call me', 'deray davis'], 'Retweet': -1, 'Fav': -1, 'source': 'tumblr', 'date_added': '2018-06-28', 'in_reply_to': -1}\n",
      " {'_id': 175207118719, 'keyword': 'call me', 'username': 'seezfrsh', 'user_id': -1, 'content': 'Call me', 'timestamp': '24 Jun 2018', 'location': -1, 'hashtags': ['call me'], 'Retweet': -1, 'Fav': -1, 'source': 'tumblr', 'date_added': '2018-06-24', 'in_reply_to': -1}\n",
      " {'_id': 175248790850, 'keyword': 'call me', 'username': 'cannelitaa', 'user_id': -1, 'content': 'Why aren’t phone conversations more common.. I enjoy them so much.. like call me let’s talk about our day.. lemme ask you things about yourself.. ', 'timestamp': '26 Jun 2018', 'location': -1, 'hashtags': ['phone calls', 'call me sometime', 'please bang my line', 'call me'], 'Retweet': -1, 'Fav': -1, 'source': 'tumblr', 'date_added': '2018-06-25', 'in_reply_to': -1}\n",
      " {'_id': 175136589342, 'keyword': 'call me', 'username': 'giffinggif', 'user_id': -1, 'content': '', 'timestamp': '22 Jun 2018', 'location': -1, 'hashtags': ['reactions', 'call me', 'deray davis'], 'Retweet': -1, 'Fav': -1, 'source': 'tumblr', 'date_added': '2018-06-22', 'in_reply_to': -1}\n",
      " {'_id': 175167503213, 'keyword': 'call me', 'username': 'littletiniaesthetic', 'user_id': -1, 'content': '', 'timestamp': '23 Jun 2018', 'location': -1, 'hashtags': ['angel', 'bite my neck', 'call me', 'your girl', 'quotes', 'pink', 'aesthetic'], 'Retweet': -1, 'Fav': -1, 'source': 'tumblr', 'date_added': '2018-06-23', 'in_reply_to': -1}\n",
      " {'_id': 175178104141, 'keyword': 'call me', 'username': 'b-enthere', 'user_id': -1, 'content': 'And you starting to bore me, baby', 'timestamp': '23 Jun 2018', 'location': -1, 'hashtags': ['arctic', 'monkeys', 'call me', 'high', \"why'd you only call me when you're high\", 'bore', 'bored', 'AM', 'august', '2013', 'music video', 'music', 'track'], 'Retweet': -1, 'Fav': -1, 'source': 'tumblr', 'date_added': '2018-06-23', 'in_reply_to': -1}\n",
      " {'_id': 175338687269, 'keyword': 'call me', 'username': 'fragments-of-my-mind', 'user_id': -1, 'content': 'Call me…Call me selfish but I am not ready for you to go. I am not ready for the sunset to remind me I can no longer create new memories with you. Call me heartless but I am not ready to stop loving you. I am not ready for the sunrise to remind me of another night gone, not spent beside you.Call me greedy but I am not ready to let go of your hand. I am not ready for the evening to remind me my time has run out, that I can no longer stay with you.Call me impatient but I am not ready to wait for you in another life. I am not ready for the night to remind me of my loneliness, I want you in this life. Call me angry but I am not ready for life to take you back to stars. I am not ready for the constellations to remind me that you’re done from this world, that all I’ll have of you are memories.Call me incomplete but I am not ready for life to tell me I can’t be one with you. I am not ready to see the young couples and for them to remind me what I am missing, that I can’t be a couple with you. Call me a hypocrite because while I cower at the thought of losing you, I am happy you’re finding peace, that your heart will be set free the way you’ve long been wanting.Call me broken because while you’re happy on my loneliness, I slowly wither inside as the shards of glass are gradually shattering, leaving my fragments being scattered all over the place. I’m not ready to say goodbye. Not yet, not now.I’m not ready to bid farewell. Not now, not ever. Should you wish me to stay, I will. But know that my heart will forever be walking after you.To wish for you to stay is the only wish I’ll ever have. But know that remnants of my heart solely beat in symphony with yours.Till then, every sunset will remind me of the moments we could’ve shared, memories we could’ve made.Till we become one, every sunrise will remind me of mornings I could share with you, wake up in your scent, open my eyes to yours. - Stardust and FragmentsA beautiful collab with the amazing @september-stardust =’)', 'timestamp': '28 Jun 2018', 'location': -1, 'hashtags': ['stardust and fragments', 'september-stardust', 'fragments-of-my-mind', 'call me', 'writing together', 'artisticcollaborations', 'deadwatered', 'poeticstories', 'writerscreed', 'poetryportal', 'blotchedpoems', 'lzlabseesu', 'savage-words', 'songoftheclouds', 'twcpoetry', 'brokensoulsreborn', 'poetryriot', 'bitsofstarglow', 're bumbleblossoms', 'inkstainsandheartbeats', 'inkstay', 'morethanpomegranates', 'writers on tumblr', 'poets on tumblr', 'love poetry', 'us', 'beautiful collab'], 'Retweet': -1, 'Fav': -1, 'source': 'tumblr', 'date_added': '2018-06-28', 'in_reply_to': -1}\n",
      " {'_id': 175136229151, 'keyword': 'call me', 'username': 'usedpimpa', 'user_id': -1, 'content': 'New GIPHY!', 'timestamp': '22 Jun 2018', 'location': -1, 'hashtags': ['Giphy', 'GIF', 'reactions', 'call me', 'deray davis'], 'Retweet': -1, 'Fav': -1, 'source': 'tumblr', 'date_added': '2018-06-22', 'in_reply_to': -1}\n",
      " {'_id': 175135321454, 'keyword': 'call me', 'username': 'justalittletumblweed', 'user_id': -1, 'content': '', 'timestamp': '22 Jun 2018', 'location': -1, 'hashtags': ['GIF', 'reactions', 'call me', 'deray davis'], 'Retweet': -1, 'Fav': -1, 'source': 'tumblr', 'date_added': '2018-06-22', 'in_reply_to': -1}\n",
      " {'_id': 175134896391, 'keyword': 'call me', 'username': 'ozkamal', 'user_id': -1, 'content': 'New trending GIF tagged reactions, call me, deray davis via Giphy https://ift.tt/2LVXqHH', 'timestamp': '22 Jun 2018', 'location': -1, 'hashtags': ['IFTTT', 'Giphy', 'reactions', 'call me', 'deray davis'], 'Retweet': -1, 'Fav': -1, 'source': 'tumblr', 'date_added': '2018-06-22', 'in_reply_to': -1}\n",
      " {'_id': 175129863510, 'keyword': 'call me', 'username': 'this-is-the-end-ofme', 'user_id': -1, 'content': 'Running from my problems until my feet get sore', 'timestamp': '22 Jun 2018', 'location': -1, 'hashtags': ['call me', 'im sorry', 'dead inside'], 'Retweet': -1, 'Fav': -1, 'source': 'tumblr', 'date_added': '2018-06-22', 'in_reply_to': -1}\n",
      " {'_id': 175127743792, 'keyword': 'call me', 'username': 'catbeast', 'user_id': -1, 'content': 'New trending GIF tagged reactions, call me, deray davis via Giphy https://ift.tt/2LVXqHH', 'timestamp': '22 Jun 2018', 'location': -1, 'hashtags': ['IFTTT', 'Giphy', 'reactions', 'call me', 'deray davis'], 'Retweet': -1, 'Fav': -1, 'source': 'tumblr', 'date_added': '2018-06-22', 'in_reply_to': -1}\n",
      " {'_id': 175133953153, 'keyword': 'call me', 'username': 'overthemoon3', 'user_id': -1, 'content': '', 'timestamp': '22 Jun 2018', 'location': -1, 'hashtags': ['GIF', 'reactions', 'call me', 'deray davis'], 'Retweet': -1, 'Fav': -1, 'source': 'tumblr', 'date_added': '2018-06-22', 'in_reply_to': -1}\n",
      " {'_id': 175127222340, 'keyword': 'call me', 'username': 'mynamestartswithaletter', 'user_id': -1, 'content': 'Cool Gif', 'timestamp': '22 Jun 2018', 'location': -1, 'hashtags': ['GIF', 'reactions', 'call me', 'deray davis'], 'Retweet': -1, 'Fav': -1, 'source': 'tumblr', 'date_added': '2018-06-22', 'in_reply_to': -1}\n",
      " {'_id': 175126908609, 'keyword': 'call me', 'username': 'trapstrblog', 'user_id': -1, 'content': '', 'timestamp': '22 Jun 2018', 'location': -1, 'hashtags': ['trapstr', 'gif', 'gifs', 'reactions', 'call me', 'deray davis'], 'Retweet': -1, 'Fav': -1, 'source': 'tumblr', 'date_added': '2018-06-22', 'in_reply_to': -1}\n",
      " {'_id': 175120302653, 'keyword': 'call me', 'username': 'new-shit', 'user_id': -1, 'content': 'Shy FX - Call Me ft. Maverick Sabre (Official Video)', 'timestamp': '22 Jun 2018', 'location': -1, 'hashtags': ['shy fx', 'call me', 'maverick sabre', 'official video'], 'Retweet': -1, 'Fav': -1, 'source': 'tumblr', 'date_added': '2018-06-21', 'in_reply_to': -1}\n",
      " {'_id': 175126907634, 'keyword': 'call me', 'username': 'just-r-connection', 'user_id': -1, 'content': 'Le migliori gif da GIPHY!', 'timestamp': '22 Jun 2018', 'location': -1, 'hashtags': ['GIF', 'reactions', 'call me', 'deray davis', 'gif del giorno'], 'Retweet': -1, 'Fav': -1, 'source': 'tumblr', 'date_added': '2018-06-22', 'in_reply_to': -1}\n",
      " {'_id': 175110959596, 'keyword': 'call me', 'username': 'danks-gif', 'user_id': -1, 'content': '', 'timestamp': '21 Jun 2018', 'location': -1, 'hashtags': ['GIF', 'reactions', 'call me', 'deray davis'], 'Retweet': -1, 'Fav': -1, 'source': 'tumblr', 'date_added': '2018-06-21', 'in_reply_to': -1}\n",
      " {'_id': 175135003996, 'keyword': 'call me', 'username': 'danks-gif', 'user_id': -1, 'content': '', 'timestamp': '22 Jun 2018', 'location': -1, 'hashtags': ['GIF', 'reactions', 'call me', 'deray davis'], 'Retweet': -1, 'Fav': -1, 'source': 'tumblr', 'date_added': '2018-06-22', 'in_reply_to': -1}\n",
      " {'_id': 175109754387, 'keyword': 'call me', 'username': 'hendriech', 'user_id': -1, 'content': 'New trending GIF tagged reactions, call me, deray davis via Giphy https://ift.tt/2LVXqHH', 'timestamp': '21 Jun 2018', 'location': -1, 'hashtags': ['IFTTT', 'Giphy', 'reactions', 'call me', 'deray davis'], 'Retweet': -1, 'Fav': -1, 'source': 'tumblr', 'date_added': '2018-06-21', 'in_reply_to': -1}\n",
      " {'_id': 175110169916, 'keyword': 'call me', 'username': 'usedpimpa', 'user_id': -1, 'content': 'New GIPHY!', 'timestamp': '21 Jun 2018', 'location': -1, 'hashtags': ['Giphy', 'GIF', 'reactions', 'call me', 'deray davis'], 'Retweet': -1, 'Fav': -1, 'source': 'tumblr', 'date_added': '2018-06-21', 'in_reply_to': -1}\n",
      " {'_id': 175109841049, 'keyword': 'call me', 'username': 'desingyouruniverse', 'user_id': -1, 'content': '', 'timestamp': '21 Jun 2018', 'location': -1, 'hashtags': ['reactions', 'call me', 'deray davis'], 'Retweet': -1, 'Fav': -1, 'source': 'tumblr', 'date_added': '2018-06-21', 'in_reply_to': -1}\n",
      " {'_id': 175109696996, 'keyword': 'call me', 'username': 'ivan2266', 'user_id': -1, 'content': 'New trending GIF tagged reactions, call me, deray davis via Giphy https://ift.tt/2LVXqHH', 'timestamp': '21 Jun 2018', 'location': -1, 'hashtags': ['IFTTT', 'Giphy', 'reactions', 'call me', 'deray davis'], 'Retweet': -1, 'Fav': -1, 'source': 'tumblr', 'date_added': '2018-06-21', 'in_reply_to': -1}\n",
      " {'_id': 174702096714, 'keyword': 'call me', 'username': 'thekidzcantfathom', 'user_id': -1, 'content': 'shy fx feat. maverick sabre 『Call Me』', 'timestamp': '09 Jun 2018', 'location': -1, 'hashtags': ['shy fx', 'maverick sabre', 'call me'], 'Retweet': -1, 'Fav': -1, 'source': 'tumblr', 'date_added': '2018-06-08', 'in_reply_to': -1}\n",
      " {'_id': 174690874486, 'keyword': 'call me', 'username': 'radicaledwin', 'user_id': -1, 'content': 'Such a good song, when I’m not listening to Young Stoney', 'timestamp': '08 Jun 2018', 'location': -1, 'hashtags': ['st.paul&brokenbones', 'st.paul and broken bones', 'call me', 'shuffle'], 'Retweet': -1, 'Fav': -1, 'source': 'tumblr', 'date_added': '2018-06-08', 'in_reply_to': -1}\n",
      " {'_id': 175109651144, 'keyword': 'call me', 'username': 'glendale2000', 'user_id': -1, 'content': 'New trending GIF tagged reactions, call me, deray davis\\n(June 5, 2018 at 10:56PM)\\nvia Giphy https://giphy.com/gifs/deraydavis-deray-davis-w9xqv7uWcPe2HRZ5sX', 'timestamp': '21 Jun 2018', 'location': -1, 'hashtags': ['IFTTT', 'Giphy', 'reactions', 'call me', 'deray davis', 'June 5', '2018 at 10:56PM'], 'Retweet': -1, 'Fav': -1, 'source': 'tumblr', 'date_added': '2018-06-21', 'in_reply_to': -1}\n",
      " {'_id': 174679288296, 'keyword': 'call me', 'username': 'intellextaully-inspired', 'user_id': -1, 'content': 'If only you knew', 'timestamp': '08 Jun 2018', 'location': -1, 'hashtags': ['call me', 'I miss you'], 'Retweet': -1, 'Fav': -1, 'source': 'tumblr', 'date_added': '2018-06-08', 'in_reply_to': -1}\n",
      " {'_id': 175110050204, 'keyword': 'call me', 'username': 'justalittletumblweed', 'user_id': -1, 'content': '', 'timestamp': '21 Jun 2018', 'location': -1, 'hashtags': ['GIF', 'reactions', 'call me', 'deray davis'], 'Retweet': -1, 'Fav': -1, 'source': 'tumblr', 'date_added': '2018-06-21', 'in_reply_to': -1}\n",
      " {'_id': 174588043781, 'keyword': 'call me', 'username': 'prideofpentagon', 'user_id': -1, 'content': 'Czech exam today 🙄', 'timestamp': '05 Jun 2018', 'location': -1, 'hashtags': ['pentagon', 'shinwon', 'call me', 'shine', 'stage', 'positive'], 'Retweet': -1, 'Fav': -1, 'source': 'tumblr', 'date_added': '2018-06-05', 'in_reply_to': -1}\n",
      " {'_id': 174604376975, 'keyword': 'call me', 'username': 'jenzelart', 'user_id': -1, 'content': 'Caw me, crow, acrylic painting on cardboard', 'timestamp': '06 Jun 2018', 'location': -1, 'hashtags': ['caw', 'crow', 'caw me', 'call me', 'crow art', 'phone', 'receiver', 'lettering', 'hand lettering', 'painting', 'art', 'Blondie', 'crows are my muse'], 'Retweet': -1, 'Fav': -1, 'source': 'tumblr', 'date_added': '2018-06-05', 'in_reply_to': -1}\n",
      " {'_id': 174649216431, 'keyword': 'call me', 'username': 'madameliberty', 'user_id': -1, 'content': 'Phineas Fletcher can suck my ear lobe anytime ', 'timestamp': '07 Jun 2018', 'location': -1, 'hashtags': ['call me', 'soccer', 'family guy', 'relatable', 'phineas and ferb', 'smut', 'fan fiction', 'lgbt', '2016 presidential debate', 'gop debate liveblog', 'feeding my ego', 'god'], 'Retweet': -1, 'Fav': -1, 'source': 'tumblr', 'date_added': '2018-06-07', 'in_reply_to': -1}\n",
      " {'_id': 174625425057, 'keyword': 'call me', 'username': 'jdmtimes', 'user_id': -1, 'content': '', 'timestamp': '06 Jun 2018', 'location': -1, 'hashtags': ['race', 'racing', 'drift', 'motorsport', 'call me', 'coronel', 'karting', 'tom coronel', 'tim coronel', 'karten', 'kart r'], 'Retweet': -1, 'Fav': -1, 'source': 'tumblr', 'date_added': '2018-06-06', 'in_reply_to': -1}\n",
      " {'_id': 174568874195, 'keyword': 'call me', 'username': 'iamrman', 'user_id': -1, 'content': 'Blondie - Call me ', 'timestamp': '04 Jun 2018', 'location': -1, 'hashtags': ['Call Me', 'Blondie'], 'Retweet': -1, 'Fav': -1, 'source': 'tumblr', 'date_added': '2018-06-04', 'in_reply_to': -1}\n",
      " {'_id': 174587346902, 'keyword': 'call me', 'username': 'horrorbisexual', 'user_id': -1, 'content': 'sandra bullockBLEASE ', 'timestamp': '05 Jun 2018', 'location': -1, 'hashtags': ['CALL ME'], 'Retweet': -1, 'Fav': -1, 'source': 'tumblr', 'date_added': '2018-06-05', 'in_reply_to': -1}\n",
      " {'_id': 174513728575, 'keyword': 'call me', 'username': 'old-people-on-facebook', 'user_id': -1, 'content': '', 'timestamp': '03 Jun 2018', 'location': -1, 'hashtags': ['call me', 'facebook comments', 'old people on facebook'], 'Retweet': -1, 'Fav': -1, 'source': 'tumblr', 'date_added': '2018-06-03', 'in_reply_to': -1}\n",
      " {'_id': 174575596611, 'keyword': 'call me', 'username': '666xalienx666', 'user_id': -1, 'content': 'Call me!\\nFor me, one of the biggest inspirations at the time of drawing (or doing anything else) is music.\\xa0The different tones, lyrics and rhythms transport you to different places.\\xa0I listen to many musical genres (listening to only one would be boring) this song of the 80’s is especially good to drive on the road! wild and free…\\xa0I love to draw with music! it’s magic.', 'timestamp': '05 Jun 2018', 'location': -1, 'hashtags': ['My Drawings', 'my art', 'quicksketch', 'blondie', 'call me', '80s music', 'Music Inspired Art', 'inspired by music', 'road girl', 'motorcycle'], 'Retweet': -1, 'Fav': -1, 'source': 'tumblr', 'date_added': '2018-06-04', 'in_reply_to': -1}\n",
      " {'_id': 174495879446, 'keyword': 'call me', 'username': 'musikmp4', 'user_id': -1, 'content': 'MusikMp Songs -  Musik Shinedown – Call Me http://musikmp4.com/songs/musik-shinedown-call-me?utm_source=dlvr.it&utm_medium=tumblr #MusikMp4 #facebook #musik_mp3', 'timestamp': '02 Jun 2018', 'location': -1, 'hashtags': ['Call Me', 'download lagu', 'download mp3', 'download mp4', 'garap lagu'], 'Retweet': -1, 'Fav': -1, 'source': 'tumblr', 'date_added': '2018-06-02', 'in_reply_to': -1}\n",
      " {'_id': 174491542085, 'keyword': 'call me', 'username': 'sleepycharlene', 'user_id': -1, 'content': 'Where are you? What are you feeling? Why do you hide?', 'timestamp': '02 Jun 2018', 'location': -1, 'hashtags': ['personal', 'i still want to talk', 'call me'], 'Retweet': -1, 'Fav': -1, 'source': 'tumblr', 'date_added': '2018-06-02', 'in_reply_to': -1}\n",
      " {'_id': 174485063664, 'keyword': 'call me', 'username': 'partw0lf', 'user_id': -1, 'content': '', 'timestamp': '02 Jun 2018', 'location': -1, 'hashtags': ['Call Me'], 'Retweet': -1, 'Fav': -1, 'source': 'tumblr', 'date_added': '2018-06-02', 'in_reply_to': -1}\n",
      " {'_id': 174470992987, 'keyword': 'call me', 'username': 'lancelier', 'user_id': -1, 'content': 'Chris Hemsworth it’s  pride month. Call me. ', 'timestamp': '01 Jun 2018', 'location': -1, 'hashtags': ['call me', 'loganvlogs'], 'Retweet': -1, 'Fav': -1, 'source': 'tumblr', 'date_added': '2018-06-01', 'in_reply_to': -1}\n",
      " {'_id': 174478826993, 'keyword': 'call me', 'username': 'crossfit-urchin', 'user_id': -1, 'content': 'Raymond Romanick Wears “Sara, Call Me” t-shit with his phone numberFound here', 'timestamp': '02 Jun 2018', 'location': -1, 'hashtags': ['Sara', 'Call Me', 'crossfit', 'competitive fitness', 'exercise', 'Raymond Romanick Wears  t-shit with his phon'], 'Retweet': -1, 'Fav': -1, 'source': 'tumblr', 'date_added': '2018-06-01', 'in_reply_to': -1}\n",
      " {'_id': 174484678781, 'keyword': 'call me', 'username': 'firecrystal1092', 'user_id': -1, 'content': '', 'timestamp': '02 Jun 2018', 'location': -1, 'hashtags': ['shinedown', 'call me', 'music', 'music cover', 'vocalist', 'vocal cover', 'YouTube'], 'Retweet': -1, 'Fav': -1, 'source': 'tumblr', 'date_added': '2018-06-02', 'in_reply_to': -1}\n",
      " {'_id': 174255211726, 'keyword': 'call me', 'username': 'jenabean75', 'user_id': -1, 'content': 'Rebel With A Cause', 'timestamp': '26 May 2018', 'location': -1, 'hashtags': ['hey gurl', \"90's boy band misha\", 'call me', 'misha collins', 'sock monkey', 'gish', 'rebel', 'castiel', 'supernatural'], 'Retweet': -1, 'Fav': -1, 'source': 'tumblr', 'date_added': '2018-05-26', 'in_reply_to': -1}\n",
      " {'_id': 174480861432, 'keyword': 'call me', 'username': 'polvodestrell4s', 'user_id': -1, 'content': 'I’m your personal disappointment. ', 'timestamp': '02 Jun 2018', 'location': -1, 'hashtags': ['disappointment', 'call me', 'lol'], 'Retweet': -1, 'Fav': -1, 'source': 'tumblr', 'date_added': '2018-06-01', 'in_reply_to': -1}\n",
      " {'_id': 174247227482, 'keyword': 'call me', 'username': 'thoughtfullightcollectionii', 'user_id': -1, 'content': 'Yeah, so, anytime Dan and Phil in their cuddly jumpers wanna make a Katie sandwich (dan on one side, phil on the other side, katie in the middle) I’m ready. ', 'timestamp': '26 May 2018', 'location': -1, 'hashtags': ['call me'], 'Retweet': -1, 'Fav': -1, 'source': 'tumblr', 'date_added': '2018-05-25', 'in_reply_to': -1}\n",
      " {'_id': 174245615904, 'keyword': 'call me', 'username': 'desingyouruniverse', 'user_id': -1, 'content': '', 'timestamp': '25 May 2018', 'location': -1, 'hashtags': ['phone', 'stephen colbert', 'late show', 'call me', 'lupita nyongo', \"i'm free\", \"i'm open\", 'my phone lines are op'], 'Retweet': -1, 'Fav': -1, 'source': 'tumblr', 'date_added': '2018-05-25', 'in_reply_to': -1}\n",
      " {'_id': 174443235635, 'keyword': 'call me', 'username': 'momusic-blog', 'user_id': -1, 'content': 'Cautious Clay - “Call Me”', 'timestamp': '01 Jun 2018', 'location': -1, 'hashtags': ['cautious clay', 'call me', 'resonance', 'ep', 'new song', 'new artist', 'new music', 'momusic', 'chillin', 'r&b beat', 'hip hop', 'indie', 'R&B'], 'Retweet': -1, 'Fav': -1, 'source': 'tumblr', 'date_added': '2018-05-31', 'in_reply_to': -1}\n",
      " {'_id': 174226260146, 'keyword': 'call me', 'username': 'misswriterstudent', 'user_id': -1, 'content': 'Call Me by Blondie.', 'timestamp': '25 May 2018', 'location': -1, 'hashtags': ['blondie', 'music', 'call me', 'Rock Band', 'debbie harry', 'classic', '1970s', 'female singer', 'the 1980s', 'hits', 'Rock Star', 'female rock singer', 'beautiful'], 'Retweet': -1, 'Fav': -1, 'source': 'tumblr', 'date_added': '2018-05-25', 'in_reply_to': -1}\n",
      " {'_id': 174165177844, 'keyword': 'call me', 'username': 'sorrowful-grunge', 'user_id': -1, 'content': 'I just want someone\\xa0who gives me attention/love, calls/ facetimes me and gives me head is that too much to ask??', 'timestamp': '23 May 2018', 'location': -1, 'hashtags': ['call me', 'phone calls', 'facetime', 'attention', 'I NEED ATTENTION', 'head', 'give me head', 'love me', 'lol', 'to much to ask'], 'Retweet': -1, 'Fav': -1, 'source': 'tumblr', 'date_added': '2018-05-23', 'in_reply_to': -1}\n",
      " {'_id': 174121839998, 'keyword': 'call me', 'username': 'd-r-a-s-t-i-c-a', 'user_id': -1, 'content': '', 'timestamp': '22 May 2018', 'location': -1, 'hashtags': ['nails', 'call me', 'retro', '90s', 'pink', 'Aesthetic'], 'Retweet': -1, 'Fav': -1, 'source': 'tumblr', 'date_added': '2018-05-21', 'in_reply_to': -1}\n",
      " {'_id': 174104931401, 'keyword': 'call me', 'username': 'sinonimosysintomas', 'user_id': -1, 'content': 'Ahhh Hi', 'timestamp': '21 May 2018', 'location': -1, 'hashtags': ['gif', 'red', 'me', 'myself', 'call me', 'hot', 'boy', 'd stuff', 'do', 'material world', 'police', 'yellow', 'synonyms and symptoms', 'cool', 'hair', '80s', 'sexy', 'artist', 'new tumblr'], 'Retweet': -1, 'Fav': -1, 'source': 'tumblr', 'date_added': '2018-05-21', 'in_reply_to': -1}\n",
      " {'_id': 174079518747, 'keyword': 'call me', 'username': 'ardate', 'user_id': -1, 'content': 'My BFF released a new song and you should listen. Really.', 'timestamp': '20 May 2018', 'location': -1, 'hashtags': ['misc', 'music', 'jordan', 'late night songs', 'call me', 'video', 'audio', 'make my brother happy and support him and his music!'], 'Retweet': -1, 'Fav': -1, 'source': 'tumblr', 'date_added': '2018-05-20', 'in_reply_to': -1}\n",
      " {'_id': 174046047685, 'keyword': 'call me', 'username': 'ginnys-interlude', 'user_id': -1, 'content': '', 'timestamp': '19 May 2018', 'location': -1, 'hashtags': ['nav', 'call me', 'freshman tour', 'nyc', 'xotwod', 'xo'], 'Retweet': -1, 'Fav': -1, 'source': 'tumblr', 'date_added': '2018-05-19', 'in_reply_to': -1}\n",
      " {'_id': 174466413665, 'keyword': 'call me', 'username': 'jivetrix', 'user_id': -1, 'content': '\\n\\nWrap me in a bolt of lightningSend me on my way still smilingMaybe that’s the way I should goStraight into the mouth of the unknownI left the spare key on the tableNever really thought I’d be ableTo say that I’ll visit on the weekendsI lost my whole life and a dear friendI’ve said it so many timesI would change my ways no never mindGod knows I tried!Call me a sinner, call me a saintTell me its over, I’ll still love you the sameCall me your favoriteCall me the worstTell me its over I don’t want you to hurtIts all that I can saySo I’ll be on my wayI finally put it all together, nothing really lasts foreverI had to make a choice that was not mineI had to say goodbye for the last timeI put my life in a suitcaseNever really stayed in one placeMaybe that’s the way it should beYou know I’ve lived my life like a gypsyI’ve said it so many timesI would change my ways, no never mindGod knows I tried!Call me a sinner, call me a saintTell me its over, I’ll still love you the sameCall me your favoriteCall me the worstTell me its over I don’t want you to hurtIts all that I can saySo I’ll be on my wayI’ll always keep you insideYou healed my heart and my lifeAnd you know I’ve triedCall me a sinner, call me a saintTell me its over, I’ll still love you the sameCall me your favoriteCall me the worstTell me its over I don’t want you to hurtIts all that I can saySo I’ll be on my waySo I’ll be on my waySo I’ll be on my way\\n\\n ', 'timestamp': '01 Jun 2018', 'location': -1, 'hashtags': [\"it's over\", 'lost love', 'shinedown', 'call me', 'relationship ending'], 'Retweet': -1, 'Fav': -1, 'source': 'tumblr', 'date_added': '2018-06-01', 'in_reply_to': -1}\n",
      " {'_id': 173971979098, 'keyword': 'call me', 'username': 'sexual-nirvana', 'user_id': -1, 'content': 'He’s clearly suffocating and you’re not even trying to save him.', 'timestamp': '17 May 2018', 'location': -1, 'hashtags': ['when i said always i meant it', 'call me', 'i hope youll be okay', 'youre strong'], 'Retweet': -1, 'Fav': -1, 'source': 'tumblr', 'date_added': '2018-05-16', 'in_reply_to': -1}\n",
      " {'_id': 173967380077, 'keyword': 'call me', 'username': 'butt-actually', 'user_id': -1, 'content': 'PSAI’m driving and I am SO FUCKING BORED ', 'timestamp': '17 May 2018', 'location': -1, 'hashtags': ['call me', 'entertain me', 'hlrp'], 'Retweet': -1, 'Fav': -1, 'source': 'tumblr', 'date_added': '2018-05-16', 'in_reply_to': -1}\n",
      " {'_id': 173960092762, 'keyword': 'call me', 'username': 'emofrontman', 'user_id': -1, 'content': 'jeonghan and jun…', 'timestamp': '16 May 2018', 'location': -1, 'hashtags': ['call me'], 'Retweet': -1, 'Fav': -1, 'source': 'tumblr', 'date_added': '2018-05-16', 'in_reply_to': -1}\n",
      " {'_id': 173953247389, 'keyword': 'call me', 'username': 'everythingsbetterwhengay', 'user_id': -1, 'content': 'Call Me 😂', 'timestamp': '16 May 2018', 'location': -1, 'hashtags': ['leabihonest', 'call me maybe', 'call me', 'damage', 'anxiety', 'depression', 'comfort', 'friends', 'support', 'patience', 'a lot'], 'Retweet': -1, 'Fav': -1, 'source': 'tumblr', 'date_added': '2018-05-16', 'in_reply_to': -1}\n",
      " {'_id': 174001632471, 'keyword': 'call me', 'username': 'go-live-it-up', 'user_id': -1, 'content': 'Anyone wanna call me?', 'timestamp': '18 May 2018', 'location': -1, 'hashtags': ['super bored', 'super manic', \"I'll sing to you\", 'call me'], 'Retweet': -1, 'Fav': -1, 'source': 'tumblr', 'date_added': '2018-05-17', 'in_reply_to': -1}\n",
      " {'_id': 173969669727, 'keyword': 'call me', 'username': 'smallishsyd', 'user_id': -1, 'content': 'A few days ago the lord gained a beautiful angel.That morning I had gotten the news that you had passed the night before. You acted fine that day sweet girl.I still went to school. I didn’t know what else to do. A group of people were in the corner locked in embrace. Tears slithered downs everyone’s face and we all asked “why?”. Walking into first hour and seeing your empty chair hit me like ten stones but not as bad as it had been when I watched your best friend have to have her mom bring her to school as she sobbed. They gave us blue bracelets in your memory because it was your favorite color. It’s been two days and I haven’t had the thought of taking it off yet. I’m not going to soon I don’t think. They brought us into a classroom for a meeting. They said things like “stay hydrated” and “speak your feelings”. Sweet girl why didn’t you speak your feelings?The class clowns’ choked sobs slither into everyone’s ears. They never cried in front of me before.Your funerals tomorrow. Words will never describe some of the things I saw at school yesterday so I just won’t say it at this moment. Sweet girl when will they say “it was all just a joke”? Sweet girl when will I wake up from this terrible nightmare!Sweet girl why did you do it?Sweet girl why can’t you come back?Sweet girl it really hurts. Sweet girl it’ll never be the same without you.Sweet girl I love you.Sweet girl fly high.Sweet girl it hurts like hell but I hope you feel better.Sweet girl you will be missed.——————————Fly high Amy. It absolutely sucks losing you. I could’ve if talked to you.Please please if you are contemplating suicide please text or call me.I can’t have anyone else see their school like this. I can’t have anyone lose their classmate to something so tragic.It will happen but I hope I can help at least one of you beautiful people. Rest In Peace.Amy 5-14-18.💙', 'timestamp': '17 May 2018', 'location': -1, 'hashtags': ['don’t', 'icantalk', 'mental disorder', 'mental health', 'call me', 'text me', 'fly high', 'rest in peace', 'R.I.P', 'loveyou.'], 'Retweet': -1, 'Fav': -1, 'source': 'tumblr', 'date_added': '2018-05-16', 'in_reply_to': -1}\n",
      " {'_id': 173952292194, 'keyword': 'call me', 'username': 'caetikos', 'user_id': -1, 'content': 'I _ m i s s _ y o uI miss your good night kisses. I miss your smile. I miss our talks. I miss your kind hearth. I miss your love. I miss your smell. I miss your face. I miss our jokes. I miss you and even after you told me, you don’t miss me, I don’t think I can ever stop missing you.', 'timestamp': '16 May 2018', 'location': -1, 'hashtags': ['please', 'call me', 'we need to talk', 'i want to tell you one more time', 'i need you', 'iloveyou', 'i miss you'], 'Retweet': -1, 'Fav': -1, 'source': 'tumblr', 'date_added': '2018-05-16', 'in_reply_to': -1}\n",
      " {'_id': 173916445351, 'keyword': 'call me', 'username': 'murraymint100', 'user_id': -1, 'content': 'Debbie Harry - Blondie’s ‘Call Me’ Video (1980)', 'timestamp': '15 May 2018', 'location': -1, 'hashtags': ['murraymint100', 'debbie harry', 'blondie', 'call me', 'Singer', 'deborah harry'], 'Retweet': -1, 'Fav': -1, 'source': 'tumblr', 'date_added': '2018-05-15', 'in_reply_to': -1}\n",
      " {'_id': 173914927368, 'keyword': 'call me', 'username': 'murraymint100', 'user_id': -1, 'content': 'Debbie Harry - Blondie’s ‘Call Me’ Video (1980)', 'timestamp': '15 May 2018', 'location': -1, 'hashtags': ['murraymint100', 'debbie harry', 'blondie', 'call me', 'Singer', 'deborah harry'], 'Retweet': -1, 'Fav': -1, 'source': 'tumblr', 'date_added': '2018-05-15', 'in_reply_to': -1}\n",
      " {'_id': 173913718022, 'keyword': 'call me', 'username': 'pinupgirl87', 'user_id': -1, 'content': '', 'timestamp': '15 May 2018', 'location': -1, 'hashtags': ['video', 'blondie', 'call me'], 'Retweet': -1, 'Fav': -1, 'source': 'tumblr', 'date_added': '2018-05-15', 'in_reply_to': -1}\n",
      " {'_id': 173914770926, 'keyword': 'call me', 'username': 'murraymint100', 'user_id': -1, 'content': 'Debbie Harry - Blondie’s ‘Call Me’ Video (1980)', 'timestamp': '15 May 2018', 'location': -1, 'hashtags': ['murraymint100', 'debbie harry', 'blondie', 'call me', 'Singer', 'deborah harry'], 'Retweet': -1, 'Fav': -1, 'source': 'tumblr', 'date_added': '2018-05-15', 'in_reply_to': -1}]\n"
     ]
    }
   ],
   "source": [
    "print (np_arr[:100])"
   ]
  },
  {
   "cell_type": "code",
   "execution_count": 14,
   "metadata": {
    "scrolled": true
   },
   "outputs": [
    {
     "name": "stdout",
     "output_type": "stream",
     "text": [
      "['180720 '] call me\n",
      "['180719 '] call me\n",
      "['180718 '] call me\n",
      "[' 500 ', ' 1973 '] call me\n",
      "['1957 ', ' 1957 ', ' 155 ', ' 1957 '] call me\n",
      "[' 2018 '] call me\n",
      "[' 20 '] 100%\n",
      "[' 2018 '] 100%\n",
      "[' 20180726'] 100%\n",
      "[' 17 ', ' 26 '] 100%\n",
      "[' 4 '] 100%\n",
      "[' 5 '] 100%\n",
      "[' 28 '] 100%\n",
      "[' 2 '] 100%\n",
      "[' 13 ', ' 13 ', ' 13 '] 100%\n",
      "[' 13 ', ' 13 ', ' 13 '] 100%\n",
      "[' 8 ', ' 5 '] message\n",
      "[' 4 ', ' 121 ', ' 0 ', ' 0 '] message\n",
      "[' 10 ', ' 15 '] message\n",
      "[' 1 '] message\n",
      "[' 33 '] message\n",
      "[' 5 '] message\n",
      "[' 5 '] $$$\n",
      "[' 5 '] $$$\n",
      "[' 180514 '] $$$\n",
      "[' 1492 ', ' 1493 '] 100% free\n",
      "[' 3 '] 50% off\n",
      "[' 12 '] 50% off\n",
      "[' 5 ', ' 6'] 50% off\n",
      "[' 4000 ', ' 4799 ', ' 5 '] Accept credit cards\n",
      "[' 2 '] Acceptance\n",
      "[' 24 '] Acceptance\n",
      "[' 24 '] Acceptance\n",
      "[' 65 '] Acceptance\n",
      "[' 24 '] Acceptance\n",
      "[' 5 '] Acceptance\n",
      "[' 3652 ', '\\n521 ', ' 5 '] Acceptance\n",
      "[' 2 '] Acceptance\n",
      "[' 306 '] Acceptance\n",
      "[' 1 ', ' 31 '] Acceptance\n",
      "[' 2 '] Acceptance\n",
      "[' 46 ', ' 1 ', ' 3 ', ' 4 ', ' 18 ', ' 18 '] Acceptance\n",
      "['2018 ', ' 2018 '] Access\n",
      "['2018 ', ' 2018 '] Access\n",
      "['2018 ', ' 2018 '] Access\n",
      "[' 2016 '] Access\n",
      "[' 5 '] Access\n",
      "[' 10 ', ' 10 '] Access\n",
      "[' 2018\\n', ' 10 ', ' 50 '] Access\n",
      "[' 2013\\n'] Access\n",
      "[' 2006 '] Access\n",
      "[' 300 '] Access\n",
      "[' 365 ', ' 365 ', ' 365 ', ' 365 ', '\\n1 ', ' 3 ', ' 365 ', ' 365 ', ' 365 ', ' 365 ', ' 365 ', ' 365 ', ' 365 ', ' 365 ', ' 365 ', ' 365 ', ' 365 ', ' 365 ', ' 365 ', ' 365 ', ' 365 ', ' 365 ', ' 365 ', ' 365 ', ' 365 ', ' 365\\n'] Access\n",
      "[' 10 '] Access\n",
      "[' 2030 ', ' 40 ', ' 2030 ', ' 2020 ', ' 32 ', ' 100 ', ' 2050 ', ' 6 ', ' 80 ', ' 800 ', ' 70 ', ' 40 ', ' 32 ', ' 100 ', ' 6 ', ' 80 ', ' 800 ', ' 70 '] Access\n",
      "[' 21 ', ' 2018'] Access\n",
      "[' 2013\\n'] Access\n",
      "[' 2 '] Access\n",
      "[' 2016 '] Access\n",
      "[' 1 ', ' 2018 '] Access\n",
      "[' 2016 '] Access\n",
      "[' 2016 '] Access\n",
      "[' 60 '] Access\n",
      "[' 25 ', ' 25 ', ' 25 '] Access\n",
      "[' 9\\n'] Access\n",
      "[' 15 ', ' 12 ', ' 8 '] Access\n",
      "[' 23 ', ' 2018 '] Access\n",
      "[' 10 ', ' 10 '] Accordingly\n",
      "[' 25 '] Act Now\n",
      "[' 5 '] Act Now\n",
      "[' 5 '] Act Now\n",
      "[' 3 '] Act Now\n",
      "[' 1 '] Act Now\n",
      "['27 ', ' 2018 '] Act Now\n",
      "['\\n1 ', ' 10 ', ' 10 '] Act Now\n",
      "[' 2 '] Whatsapp\n",
      "[' 2018 '] Whatsapp\n",
      "[' 2 '] Whatsapp\n",
      "[' 39 ', ' 373 ', ' 23 '] Whatsapp\n",
      "[' 16 '] Whatsapp\n",
      "[' 46 '] Whatsapp\n",
      "[' 46 '] Whatsapp\n",
      "[' 46 '] Whatsapp\n",
      "[' 2009 ', ' 1 ', ' 1 ', ' 7 ', ' 42 ', ' 1 ', ' 250 ', ' 5 ', ' 450 '] Whatsapp\n",
      "[' 2018\\n'] Whatsapp\n",
      "[' 18 '] Whatsapp\n",
      "[' 1 ', '\\n09199932922\\n', ' 09173211001\\n'] Whatsapp\n",
      "[' 59 '] Whatsapp\n",
      "[' 18 '] Whatsapp\n",
      "[' 16 ', ' 7 ', ' 31 ', ' 2018 '] Whatsapp\n",
      "[' 16 ', ' 7 ', ' 31 ', ' 2018 '] Whatsapp\n",
      "[' 16 ', ' 7 ', ' 31 ', ' 2018 '] Whatsapp\n",
      "[' 16 ', ' 7 ', ' 31 ', ' 2018 '] Whatsapp\n",
      "[' 16 ', ' 7 ', ' 31 ', ' 2018 '] Whatsapp\n",
      "[' 16 ', ' 7 ', ' 31 ', ' 2018 '] Whatsapp\n",
      "[' 16 ', ' 7 ', ' 31 ', ' 2018 '] Whatsapp\n",
      "[' 16 ', ' 7 ', ' 31 ', ' 2018 '] Whatsapp\n",
      "[' 16 ', ' 7 ', ' 31 ', ' 2018 '] Whatsapp\n",
      "[' 3 '] Whatsapp\n",
      "[' 16 ', ' 7 ', ' 31 ', ' 2018 '] Whatsapp\n",
      "[' 3008565847\\n', ' 3008565847\\n'] Whatsapp\n",
      "[' 80 '] Whatsapp\n",
      "[' 2 '] Hit me up\n",
      "[' 110 ', ' 2 ', ' 10 '] Hit me up\n",
      "[' 10 ', ' 1 ', ' 10 '] Hit me up\n",
      "[' 20 '] Hit me up\n",
      "[' 24 '] Hit me up\n",
      "[' 4 '] Hit me up\n",
      "[' 1986 '] Ad\n",
      "['1953 '] Ad\n",
      "[' 1960'] Ad\n",
      "[' 1976 '] Ad\n",
      "['1936 '] Ad\n",
      "[' 1973'] Ad\n",
      "[' 5 ', ' 5 '] Ad\n",
      "[' 1933 '] Ad\n",
      "['1983 '] Ad\n",
      "['1981 '] Ad\n",
      "118\n"
     ]
    }
   ],
   "source": [
    "import re\n",
    "r = r'(\\d[\\d ]{5,13}\\d{2})'\n",
    "r2= r'\\$ *\\d+[\\.]*\\d+|\\d+[\\.]*\\d+\\$'\n",
    "r3= r'^\\d+\\s|\\s\\d+\\s|\\s\\d+$'\n",
    "count = 0\n",
    "for i,doc in enumerate(np_arr):\n",
    "    content = doc['content']\n",
    "    a = re.findall(r3, content)\n",
    "    b = re.findall(r3, content)\n",
    "    \n",
    "    if len(a)>0:\n",
    "        print (a, doc['keyword'])\n",
    "        count += 1 \n",
    "#     if len(b)>0:\n",
    "#         print (b, doc['content'] )\n",
    "print (count)"
   ]
  },
  {
   "cell_type": "markdown",
   "metadata": {},
   "source": [
    "1530 matches"
   ]
  },
  {
   "cell_type": "code",
   "execution_count": 59,
   "metadata": {},
   "outputs": [
    {
     "data": {
      "text/plain": [
       "<_sre.SRE_Match object; span=(0, 14), match='33333333333333'>"
      ]
     },
     "execution_count": 59,
     "metadata": {},
     "output_type": "execute_result"
    }
   ],
   "source": [
    "re.match(r'[\\d ]{5,14}','3333333333333333333333')"
   ]
  },
  {
   "cell_type": "code",
   "execution_count": 15,
   "metadata": {},
   "outputs": [
    {
     "name": "stdout",
     "output_type": "stream",
     "text": [
      "['$100'] $$$\n",
      "['$10', '10$'] $$$\n",
      "['$300'] $$$\n",
      "['$100'] $$$\n",
      "['$30'] 50% off\n",
      "['$50.00'] 50% off\n",
      "['$50.00'] 50% off\n",
      "['$9.99'] Access\n",
      "['$25'] Act Now\n",
      "['$50'] Whatsapp\n",
      "['$16'] Whatsapp\n",
      "['$30'] Hit me up\n",
      "['$80', '$90', '$60', '$60', '$60', '$40', '$60'] Hit me up\n",
      "['$29'] Ad\n",
      "14\n"
     ]
    }
   ],
   "source": [
    "\n",
    "r = r'(\\d[\\d ]{5,13}\\d{2})'\n",
    "r2= r'\\$ *\\d+[\\.]*\\d+|\\d+[\\.]*\\d+\\$'\n",
    "r3= r'^\\d+\\s|\\s\\d+\\s|\\s\\d+$'\n",
    "count = 0\n",
    "for i,doc in enumerate(np_arr):\n",
    "    content = doc['content']\n",
    "    a = re.findall(r2, content)\n",
    "    b = re.findall(r3, content)\n",
    "    \n",
    "    if len(a)>0:\n",
    "        print (a, doc['keyword'])\n",
    "        count += 1 \n",
    "#     if len(b)>0:\n",
    "#         print (b, doc['content'] )\n",
    "print (count)"
   ]
  },
  {
   "cell_type": "code",
   "execution_count": null,
   "metadata": {
    "collapsed": true
   },
   "outputs": [],
   "source": []
  }
 ],
 "metadata": {
  "kernelspec": {
   "display_name": "Python 3",
   "language": "python",
   "name": "python3"
  },
  "language_info": {
   "codemirror_mode": {
    "name": "ipython",
    "version": 3
   },
   "file_extension": ".py",
   "mimetype": "text/x-python",
   "name": "python",
   "nbconvert_exporter": "python",
   "pygments_lexer": "ipython3",
   "version": "3.6.5"
  }
 },
 "nbformat": 4,
 "nbformat_minor": 2
}
