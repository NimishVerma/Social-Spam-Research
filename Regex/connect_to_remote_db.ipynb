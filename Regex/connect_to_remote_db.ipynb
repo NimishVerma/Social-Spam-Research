{
 "cells": [
  {
   "cell_type": "code",
   "execution_count": 5,
   "metadata": {},
   "outputs": [
    {
     "name": "stdout",
     "output_type": "stream",
     "text": [
      "['system.indexes', 'posts']\n"
     ]
    }
   ],
   "source": [
    "import pymongo\n",
    "\n",
    "### -h ds241121.mlab.com:41121 -d social_data -c posts -u user -p pass1234 --file test.json\n",
    "\n",
    "connection_params = {\n",
    "    'user': 'user',\n",
    "    'password': 'pass1234',\n",
    "    'host': 'ds241121.mlab.com',\n",
    "    'port': 41121,\n",
    "    'namespace': 'social_data',\n",
    "}\n",
    "\n",
    "connection = pymongo.MongoClient(\n",
    "    'mongodb://{user}:{password}@{host}:'\n",
    "    '{port}/{namespace}'.format(**connection_params)\n",
    ")\n",
    "\n",
    "db = connection.social_data\n",
    "\n",
    "print(db.list_collection_names())"
   ]
  },
  {
   "cell_type": "code",
   "execution_count": 6,
   "metadata": {},
   "outputs": [
    {
     "data": {
      "text/plain": [
       "Collection(Database(MongoClient(host=['ds241121.mlab.com:41121'], document_class=dict, tz_aware=False, connect=True), 'social_data'), 'posts')"
      ]
     },
     "execution_count": 6,
     "metadata": {},
     "output_type": "execute_result"
    }
   ],
   "source": [
    "coll = db.posts\n",
    "coll"
   ]
  },
  {
   "cell_type": "code",
   "execution_count": null,
   "metadata": {
    "collapsed": true
   },
   "outputs": [],
   "source": []
  }
 ],
 "metadata": {
  "kernelspec": {
   "display_name": "Python 3",
   "language": "python",
   "name": "python3"
  },
  "language_info": {
   "codemirror_mode": {
    "name": "ipython",
    "version": 3
   },
   "file_extension": ".py",
   "mimetype": "text/x-python",
   "name": "python",
   "nbconvert_exporter": "python",
   "pygments_lexer": "ipython3",
   "version": "3.6.3"
  }
 },
 "nbformat": 4,
 "nbformat_minor": 2
}
